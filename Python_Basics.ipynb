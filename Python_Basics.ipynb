{
  "nbformat": 4,
  "nbformat_minor": 0,
  "metadata": {
    "colab": {
      "name": "Python Basics.ipynb",
      "provenance": [],
      "authorship_tag": "ABX9TyMPE3EbfW7fHDNHeC6lfLQ0",
      "include_colab_link": true
    },
    "kernelspec": {
      "name": "python3",
      "display_name": "Python 3"
    },
    "language_info": {
      "name": "python"
    }
  },
  "cells": [
    {
      "cell_type": "markdown",
      "metadata": {
        "id": "view-in-github",
        "colab_type": "text"
      },
      "source": [
        "<a href=\"https://colab.research.google.com/github/ILikhitha/Python-New/blob/module-1/Python_Basics.ipynb\" target=\"_parent\"><img src=\"https://colab.research.google.com/assets/colab-badge.svg\" alt=\"Open In Colab\"/></a>"
      ]
    },
    {
      "cell_type": "code",
      "execution_count": null,
      "metadata": {
        "id": "YYtXtqHPoYAR",
        "colab": {
          "base_uri": "https://localhost:8080/"
        },
        "outputId": "70181260-d2b7-4e4f-85ec-c5c5205de0b2"
      },
      "outputs": [
        {
          "output_type": "stream",
          "name": "stdout",
          "text": [
            "Hello Python!\n"
          ]
        }
      ],
      "source": [
        "print(\"Hello Python!\")"
      ]
    },
    {
      "cell_type": "code",
      "source": [
        "if 5<55:\n",
        "  print(\"55 is greater than 5\")"
      ],
      "metadata": {
        "colab": {
          "base_uri": "https://localhost:8080/"
        },
        "id": "wMUBn8U58gRO",
        "outputId": "47ad80c3-087b-4591-85c9-0642f6b23e3d"
      },
      "execution_count": null,
      "outputs": [
        {
          "output_type": "stream",
          "name": "stdout",
          "text": [
            "55 is greater than 5\n"
          ]
        }
      ]
    },
    {
      "cell_type": "code",
      "source": [
        "if 5<55:\n",
        "  print(\"55 is greater than 5\")\n",
        "         print(\"55 is greater than 5\")\n",
        "# Error will be shown"
      ],
      "metadata": {
        "id": "D3V7Fkle92W_"
      },
      "execution_count": null,
      "outputs": []
    },
    {
      "cell_type": "code",
      "source": [
        "a=5\n",
        "b=\"Python is a programming language\"\n",
        "print(a)\n",
        "print(b)"
      ],
      "metadata": {
        "colab": {
          "base_uri": "https://localhost:8080/"
        },
        "id": "OakF7mQ9-H9y",
        "outputId": "557138ea-f77f-4d7d-81c6-ffc5b89ac055"
      },
      "execution_count": null,
      "outputs": [
        {
          "output_type": "stream",
          "name": "stdout",
          "text": [
            "5\n",
            "Python is a programming language\n"
          ]
        }
      ]
    },
    {
      "cell_type": "code",
      "source": [
        "# Comment\n",
        "print(\"Python is a programming language\")"
      ],
      "metadata": {
        "colab": {
          "base_uri": "https://localhost:8080/"
        },
        "id": "9dLCvT2T-e5C",
        "outputId": "1dc4cee4-2335-4921-ea27-143f4946a4be"
      },
      "execution_count": null,
      "outputs": [
        {
          "output_type": "stream",
          "name": "stdout",
          "text": [
            "Python is a programming language\n"
          ]
        }
      ]
    },
    {
      "cell_type": "code",
      "source": [
        "\"\"\" I saw KGF-2 movie recently\n",
        "which is an excellent movie\"\"\"\n",
        "print(\"Hello Stars!\")"
      ],
      "metadata": {
        "colab": {
          "base_uri": "https://localhost:8080/"
        },
        "id": "n2WD2rr-_Fua",
        "outputId": "2639bc86-d7ae-435d-f4dd-49d5ad3e5b9b"
      },
      "execution_count": null,
      "outputs": [
        {
          "output_type": "stream",
          "name": "stdout",
          "text": [
            "Hello Stars!\n"
          ]
        }
      ]
    },
    {
      "cell_type": "code",
      "source": [
        "a=5\n",
        "b=\"Film\"\n",
        "print(a)\n",
        "print(b)"
      ],
      "metadata": {
        "colab": {
          "base_uri": "https://localhost:8080/"
        },
        "id": "pPE1tm1I_Wmt",
        "outputId": "79b96182-37ec-4692-ba00-56ac08c72c02"
      },
      "execution_count": null,
      "outputs": [
        {
          "output_type": "stream",
          "name": "stdout",
          "text": [
            "5\n",
            "Film\n"
          ]
        }
      ]
    },
    {
      "cell_type": "code",
      "source": [
        "a=5\n",
        "b=\"Film\"\n",
        "print(b)"
      ],
      "metadata": {
        "colab": {
          "base_uri": "https://localhost:8080/"
        },
        "id": "12w5yjdREjdH",
        "outputId": "f0fcc526-ef6c-4646-c845-5e9c0ab807fb"
      },
      "execution_count": null,
      "outputs": [
        {
          "output_type": "stream",
          "name": "stdout",
          "text": [
            "Film\n"
          ]
        }
      ]
    },
    {
      "cell_type": "code",
      "source": [
        "a=int(5)\n",
        "b=float(5)\n",
        "c=str(5)\n",
        "print(a)\n",
        "print(b)\n",
        "print(c)"
      ],
      "metadata": {
        "colab": {
          "base_uri": "https://localhost:8080/"
        },
        "id": "_kmVMBBoEuyI",
        "outputId": "a7718316-2c12-4499-8095-fa52bbd49232"
      },
      "execution_count": null,
      "outputs": [
        {
          "output_type": "stream",
          "name": "stdout",
          "text": [
            "5\n",
            "5.0\n",
            "5\n"
          ]
        }
      ]
    },
    {
      "cell_type": "code",
      "source": [
        "a=5\n",
        "b=\"Film\"\n",
        "print(a)\n",
        "print(b)\n",
        "print(type(a))\n",
        "print(type(b))"
      ],
      "metadata": {
        "colab": {
          "base_uri": "https://localhost:8080/"
        },
        "id": "bilvZEHdFK5F",
        "outputId": "e300bdef-7bc3-41e0-8b09-45246f0811e1"
      },
      "execution_count": null,
      "outputs": [
        {
          "output_type": "stream",
          "name": "stdout",
          "text": [
            "5\n",
            "Film\n",
            "<class 'int'>\n",
            "<class 'str'>\n"
          ]
        }
      ]
    },
    {
      "cell_type": "code",
      "source": [
        "a=\"Google\"\n",
        "b='IBM'\n",
        "print(a)\n",
        "print(b)"
      ],
      "metadata": {
        "colab": {
          "base_uri": "https://localhost:8080/"
        },
        "id": "MlQqMEuFFUA7",
        "outputId": "9d7849d1-3c7c-4bcc-fb92-0f663fd0f367"
      },
      "execution_count": null,
      "outputs": [
        {
          "output_type": "stream",
          "name": "stdout",
          "text": [
            "Google\n",
            "IBM\n"
          ]
        }
      ]
    },
    {
      "cell_type": "code",
      "source": [
        "a=\"Programming\"\n",
        "A=\"Expert\"\n",
        "print(a)\n",
        "print(A)"
      ],
      "metadata": {
        "colab": {
          "base_uri": "https://localhost:8080/"
        },
        "id": "0on6HN8bFrsz",
        "outputId": "69919df3-e2a9-4880-a08a-9a4eb06c3c44"
      },
      "execution_count": null,
      "outputs": [
        {
          "output_type": "stream",
          "name": "stdout",
          "text": [
            "Programming\n",
            "Expert\n"
          ]
        }
      ]
    },
    {
      "cell_type": "code",
      "source": [
        ""
      ],
      "metadata": {
        "id": "D4etH9_iFr9h"
      },
      "execution_count": null,
      "outputs": []
    }
  ]
}