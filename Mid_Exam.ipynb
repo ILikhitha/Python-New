{
  "nbformat": 4,
  "nbformat_minor": 0,
  "metadata": {
    "colab": {
      "name": "Mid Exam.ipynb",
      "provenance": [],
      "authorship_tag": "ABX9TyN8gc0nMmj6zJNMKfE9kckN",
      "include_colab_link": true
    },
    "kernelspec": {
      "name": "python3",
      "display_name": "Python 3"
    },
    "language_info": {
      "name": "python"
    }
  },
  "cells": [
    {
      "cell_type": "markdown",
      "metadata": {
        "id": "view-in-github",
        "colab_type": "text"
      },
      "source": [
        "<a href=\"https://colab.research.google.com/github/ILikhitha/Python-New/blob/module-2/Mid_Exam.ipynb\" target=\"_parent\"><img src=\"https://colab.research.google.com/assets/colab-badge.svg\" alt=\"Open In Colab\"/></a>"
      ]
    },
    {
      "cell_type": "code",
      "source": [
        "# 3rd Question\n",
        "L=['a','b','c','d']\n",
        "print(\",\".join(L))"
      ],
      "metadata": {
        "colab": {
          "base_uri": "https://localhost:8080/"
        },
        "id": "SY270FE7iYoR",
        "outputId": "dd29e1cc-a707-4b22-af76-f9a6d00867e7"
      },
      "execution_count": null,
      "outputs": [
        {
          "output_type": "stream",
          "name": "stdout",
          "text": [
            "a,b,c,d\n"
          ]
        }
      ]
    },
    {
      "cell_type": "code",
      "source": [
        "# 4th Question\n",
        "# list-mutable\n",
        "# Tuple-immutable\n",
        "# set-immutable\n",
        "# Dictionary-mutable"
      ],
      "metadata": {
        "id": "WblfVVBMiFvQ"
      },
      "execution_count": null,
      "outputs": []
    },
    {
      "cell_type": "code",
      "source": [
        "# 5th Question\n",
        "# Which function removes a set's first and the last element from a list\n",
        "## pop"
      ],
      "metadata": {
        "id": "zxjvwDjjgUE3"
      },
      "execution_count": null,
      "outputs": []
    },
    {
      "cell_type": "code",
      "source": [
        "# 6th Question\n",
        "# What will be the output of the following python code snippet if x=1? x<<2\n",
        "## Ans. 4"
      ],
      "metadata": {
        "id": "ZOYzCEmQfieF"
      },
      "execution_count": null,
      "outputs": []
    },
    {
      "cell_type": "code",
      "source": [
        "# 7th Question\n",
        "# 'class' is not a core data type in python programming"
      ],
      "metadata": {
        "id": "6ljgN5HMe3O1"
      },
      "execution_count": null,
      "outputs": []
    },
    {
      "cell_type": "code",
      "source": [
        "# 'find' function searches the string for a specified value and returns the last position of where it was found"
      ],
      "metadata": {
        "id": "0Va4ybglUYgW"
      },
      "execution_count": null,
      "outputs": []
    },
    {
      "cell_type": "code",
      "source": [
        "# 8th Question\n",
        "# function searches the string for a specified value and returns the last position of where it was found"
      ],
      "metadata": {
        "id": "m5CwgryGXxW5"
      },
      "execution_count": null,
      "outputs": []
    },
    {
      "cell_type": "code",
      "source": [
        "# 9th Question\n",
        "# list1=[2;8;7]: Invalid syntax"
      ],
      "metadata": {
        "id": "QaX6mFCsT65L"
      },
      "execution_count": null,
      "outputs": []
    },
    {
      "cell_type": "code",
      "source": [
        "# 10th Question\n",
        "# PYTHON IS AN GENERAL PURPOSE PROGRAMMING LANGUAGE"
      ],
      "metadata": {
        "id": "skpO8-zCSxOZ"
      },
      "execution_count": null,
      "outputs": []
    },
    {
      "cell_type": "code",
      "source": [
        "# 11th Question\n",
        "## IF RETURN STATEMENT IS NOT USED INSIDE THE FUNCTION,THE FUNCTION WILL RETURN IS 'NONE'"
      ],
      "metadata": {
        "id": "IdGi1_ZESaUY"
      },
      "execution_count": null,
      "outputs": []
    },
    {
      "cell_type": "code",
      "source": [
        "# 12th Question\n",
        "## PYTHON SUPPORTS INTEGERS,FLOAT AND COMPLEX"
      ],
      "metadata": {
        "id": "R1fED5uQSJWl"
      },
      "execution_count": null,
      "outputs": []
    },
    {
      "cell_type": "code",
      "source": [
        "# 13th Question\n",
        "tuple1=(1,2,4,3)\n",
        "tuple2=(1,2,3,4)\n",
        "print(tuple1<tuple2)"
      ],
      "metadata": {
        "colab": {
          "base_uri": "https://localhost:8080/"
        },
        "id": "JIFevFihRx-R",
        "outputId": "089b8342-7354-45c8-f1f8-4247a5cd74fb"
      },
      "execution_count": null,
      "outputs": [
        {
          "output_type": "stream",
          "name": "stdout",
          "text": [
            "False\n"
          ]
        }
      ]
    },
    {
      "cell_type": "code",
      "source": [
        "# 14th Question\n",
        "var=10\n",
        "for i in range(10):\n",
        "  for i in range(2,10,1):\n",
        "    if var%2==0:\n",
        "      continue\n",
        "      var+=1\n",
        "    var+=1\n",
        "else:\n",
        "    var+=1\n",
        "print(var)\n"
      ],
      "metadata": {
        "colab": {
          "base_uri": "https://localhost:8080/"
        },
        "id": "1FMg2E2KPQHY",
        "outputId": "814d63ac-91ac-4d56-d2d2-a25e6ec2535f"
      },
      "execution_count": null,
      "outputs": [
        {
          "output_type": "stream",
          "name": "stdout",
          "text": [
            "11\n"
          ]
        }
      ]
    },
    {
      "cell_type": "code",
      "source": [
        "# 15th Question\n",
        "a=True\n",
        "b=False\n",
        "c=False\n",
        "if a or b and c:\n",
        "  print(\"PYTHON\")\n",
        "else:\n",
        "  print(\"python\")"
      ],
      "metadata": {
        "colab": {
          "base_uri": "https://localhost:8080/"
        },
        "id": "FG44VVV-OZR0",
        "outputId": "73d65cef-5697-4340-f74e-eee52aa7291e"
      },
      "execution_count": null,
      "outputs": [
        {
          "output_type": "stream",
          "name": "stdout",
          "text": [
            "PYTHON\n"
          ]
        }
      ]
    },
    {
      "cell_type": "code",
      "source": [
        "# 16th Question\n",
        "s=[12,23,345]\n",
        "d=[i for i in s if i%2==0]\n",
        "print(d)\n",
        "print(s[-2:-1])\n",
        "print([i for i in s if i>23])\n",
        "print(s[1:1])"
      ],
      "metadata": {
        "colab": {
          "base_uri": "https://localhost:8080/"
        },
        "id": "mSsrnvXjNT1r",
        "outputId": "9786d6da-a9a8-49d3-a671-1a16f398875f"
      },
      "execution_count": null,
      "outputs": [
        {
          "output_type": "stream",
          "name": "stdout",
          "text": [
            "[12]\n",
            "[23]\n",
            "[345]\n",
            "[]\n"
          ]
        }
      ]
    },
    {
      "cell_type": "code",
      "source": [
        "# 17th Question\n",
        "x=1\n",
        "while x<10:\n",
        "  if x%5==0:\n",
        "    break\n",
        "  print(x)\n",
        "  x+=1"
      ],
      "metadata": {
        "colab": {
          "base_uri": "https://localhost:8080/"
        },
        "id": "aDqFJGdmMro7",
        "outputId": "48c796db-f5f7-4e99-bb68-b6069883fdff"
      },
      "execution_count": null,
      "outputs": [
        {
          "output_type": "stream",
          "name": "stdout",
          "text": [
            "1\n",
            "2\n",
            "3\n",
            "4\n"
          ]
        }
      ]
    }
  ]
}