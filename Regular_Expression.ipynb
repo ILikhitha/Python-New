{
  "nbformat": 4,
  "nbformat_minor": 0,
  "metadata": {
    "colab": {
      "name": "Regular Expression.ipynb",
      "provenance": [],
      "authorship_tag": "ABX9TyNJZ9408mm5ld3T37rd+VAN",
      "include_colab_link": true
    },
    "kernelspec": {
      "name": "python3",
      "display_name": "Python 3"
    },
    "language_info": {
      "name": "python"
    }
  },
  "cells": [
    {
      "cell_type": "markdown",
      "metadata": {
        "id": "view-in-github",
        "colab_type": "text"
      },
      "source": [
        "<a href=\"https://colab.research.google.com/github/ILikhitha/Python-New/blob/module-5/Regular_Expression.ipynb\" target=\"_parent\"><img src=\"https://colab.research.google.com/assets/colab-badge.svg\" alt=\"Open In Colab\"/></a>"
      ]
    },
    {
      "cell_type": "code",
      "execution_count": null,
      "metadata": {
        "colab": {
          "base_uri": "https://localhost:8080/"
        },
        "id": "UvvcZVPTCJby",
        "outputId": "a61a8611-0e71-4487-fe01-95433743d90f"
      },
      "outputs": [
        {
          "output_type": "stream",
          "name": "stdout",
          "text": [
            "Yes!Well done\n"
          ]
        }
      ],
      "source": [
        "import re\n",
        "a=\"Sonic the Hedgehog is a 2020 action-adventure comedy film based on the video game series published by Sega\"\n",
        "b=re.search(\"^Sonic.*Sega$\",a)\n",
        "if b:\n",
        "  print(\"Yes!Well done\")\n",
        "else:\n",
        "  print(\"Try again\")"
      ]
    },
    {
      "cell_type": "code",
      "source": [
        "# findall()\n",
        "import re\n",
        "a=\"Sonic the Hedgehog 2 is a 2022 action-adventure comedy film based on the video game franchise published by Sega\"\n",
        "b=re.findall(\"on\",a)\n",
        "print(b)"
      ],
      "metadata": {
        "colab": {
          "base_uri": "https://localhost:8080/"
        },
        "id": "zVbhOMJjEMlA",
        "outputId": "a397d7eb-e18f-4dae-93d3-aece7bb30c53"
      },
      "execution_count": null,
      "outputs": [
        {
          "output_type": "stream",
          "name": "stdout",
          "text": [
            "['on', 'on', 'on']\n"
          ]
        }
      ]
    },
    {
      "cell_type": "code",
      "source": [
        "# check if the word is present in text matches or not\n",
        "import re\n",
        "a=\"Strong Girl Bong-soon is a 2017 South Korean television series\"\n",
        "b=re.findall(\"Bong\",a)\n",
        "print(b)"
      ],
      "metadata": {
        "colab": {
          "base_uri": "https://localhost:8080/"
        },
        "id": "VtGveo_4FcLA",
        "outputId": "a11ae716-9b79-4ce5-ba71-1ec3bd72229c"
      },
      "execution_count": null,
      "outputs": [
        {
          "output_type": "stream",
          "name": "stdout",
          "text": [
            "['Bong']\n"
          ]
        }
      ]
    },
    {
      "cell_type": "code",
      "source": [
        "import re\n",
        "a=\"Strong Girl Bong-soon is a 2017 South Korean television series\"\n",
        "b=re.findall(\"Yang\",a)\n",
        "print(b)"
      ],
      "metadata": {
        "colab": {
          "base_uri": "https://localhost:8080/"
        },
        "id": "hz93JNxuGlmc",
        "outputId": "10ac09f4-1a64-4322-c3da-fb03af55e55e"
      },
      "execution_count": null,
      "outputs": [
        {
          "output_type": "stream",
          "name": "stdout",
          "text": [
            "[]\n"
          ]
        }
      ]
    },
    {
      "cell_type": "code",
      "source": [
        "# search()\n",
        "import re\n",
        "a=\"Python is a high-level, interpreted, general-purpose programming language\"\n",
        "b=re.search(\"\\s\",a)\n",
        "print(b.start())"
      ],
      "metadata": {
        "colab": {
          "base_uri": "https://localhost:8080/"
        },
        "id": "8C10b038Grkw",
        "outputId": "89784504-830b-4397-85e9-c109ca247ec5"
      },
      "execution_count": null,
      "outputs": [
        {
          "output_type": "stream",
          "name": "stdout",
          "text": [
            "6\n"
          ]
        }
      ]
    },
    {
      "cell_type": "code",
      "source": [
        "# if no matches found,'None' get returns\n",
        "import re\n",
        "a=\"SQL is a standard language for storing, manipulating and retrieving data in databases\"\n",
        "b=re.search(\"Ruby\",a)\n",
        "print(b)"
      ],
      "metadata": {
        "colab": {
          "base_uri": "https://localhost:8080/"
        },
        "id": "9OxQjNoaHewz",
        "outputId": "3a499f0c-c5d6-47b0-cb2e-f32a7cc0eadc"
      },
      "execution_count": null,
      "outputs": [
        {
          "output_type": "stream",
          "name": "stdout",
          "text": [
            "None\n"
          ]
        }
      ]
    },
    {
      "cell_type": "code",
      "source": [
        "# split()\n",
        "import re\n",
        "a=\"The HyperText Markup Language or HTML is the standard markup language for documents designed to be displayed in a web browser\"\n",
        "b=re.split(\"\\s\",a)\n",
        "print(b)"
      ],
      "metadata": {
        "colab": {
          "base_uri": "https://localhost:8080/"
        },
        "id": "T2e7Cp1MIMvl",
        "outputId": "22823bb2-ad65-42c2-f1e2-1c1551066437"
      },
      "execution_count": null,
      "outputs": [
        {
          "output_type": "stream",
          "name": "stdout",
          "text": [
            "['The', 'HyperText', 'Markup', 'Language', 'or', 'HTML', 'is', 'the', 'standard', 'markup', 'language', 'for', 'documents', 'designed', 'to', 'be', 'displayed', 'in', 'a', 'web', 'browser']\n"
          ]
        }
      ]
    },
    {
      "cell_type": "code",
      "source": [
        "# maxsplit parameter\n",
        "import re\n",
        "a=\"CSS is the language we use to style an HTML document. CSS describes how HTML elements should be displayed\"\n",
        "b=re.split(\"\\s\",a,1)\n",
        "print(b)"
      ],
      "metadata": {
        "colab": {
          "base_uri": "https://localhost:8080/"
        },
        "id": "E6_7pQBiJPdW",
        "outputId": "a78cb732-dd7f-4fde-b4be-49940d2b1b2b"
      },
      "execution_count": null,
      "outputs": [
        {
          "output_type": "stream",
          "name": "stdout",
          "text": [
            "['CSS', 'is the language we use to style an HTML document. CSS describes how HTML elements should be displayed']\n"
          ]
        }
      ]
    },
    {
      "cell_type": "code",
      "source": [
        "# sub()\n",
        "import re\n",
        "a=\"R is a programming language for statistical computing and graphics\"\n",
        "b=re.sub(\"\\s\",\"5\",a)\n",
        "print(b)"
      ],
      "metadata": {
        "colab": {
          "base_uri": "https://localhost:8080/"
        },
        "id": "Jvge-GIiKAHb",
        "outputId": "e874fa96-4154-4aff-deee-5c61d3c8ccea"
      },
      "execution_count": null,
      "outputs": [
        {
          "output_type": "stream",
          "name": "stdout",
          "text": [
            "R5is5a5programming5language5for5statistical5computing5and5graphics\n"
          ]
        }
      ]
    },
    {
      "cell_type": "code",
      "source": [
        "# count parameter\n",
        "import re\n",
        "a=\"C# (C-Sharp) is a programming language developed by Microsoft that runs on the .NET Framework\"\n",
        "b=re.sub(\"\\s\",\"5\",a,5)\n",
        "print(b)"
      ],
      "metadata": {
        "colab": {
          "base_uri": "https://localhost:8080/"
        },
        "id": "xtWNYnL7KkNE",
        "outputId": "befd827a-ae36-46df-e457-30855bfadf61"
      },
      "execution_count": null,
      "outputs": [
        {
          "output_type": "stream",
          "name": "stdout",
          "text": [
            "C#5(C-Sharp)5is5a5programming5language developed by Microsoft that runs on the .NET Framework\n"
          ]
        }
      ]
    },
    {
      "cell_type": "code",
      "source": [
        "# Match object\n",
        "import re\n",
        "a=\"Sonic the Hedgehog is a 2020 action-adventure comedy film based on the video game series published by Sega\"\n",
        "b=re.search(\"on\",a)\n",
        "print(b)"
      ],
      "metadata": {
        "colab": {
          "base_uri": "https://localhost:8080/"
        },
        "id": "fO23JfFeLeJ8",
        "outputId": "2c9e00d1-40b1-4cd0-f94e-9d0fb1e802e6"
      },
      "execution_count": null,
      "outputs": [
        {
          "output_type": "stream",
          "name": "stdout",
          "text": [
            "<re.Match object; span=(1, 3), match='on'>\n"
          ]
        }
      ]
    },
    {
      "cell_type": "code",
      "source": [
        "#span()\n",
        "a=\"Java is a high-level, class-based, object-oriented programming language\"\n",
        "b=re.search(r\"\\bJ\\w+\",a)\n",
        "print(b.span())"
      ],
      "metadata": {
        "colab": {
          "base_uri": "https://localhost:8080/"
        },
        "id": "MIj8y9QyL6r5",
        "outputId": "8802bed8-3687-43c9-d320-a7d83d21d679"
      },
      "execution_count": null,
      "outputs": [
        {
          "output_type": "stream",
          "name": "stdout",
          "text": [
            "(0, 4)\n"
          ]
        }
      ]
    },
    {
      "cell_type": "code",
      "source": [
        "#string\n",
        "a=\"Java is a high-level, class-based, object-oriented programming language\"\n",
        "b=re.search(r\"\\bJ\\w+\",a)\n",
        "print(b.string)"
      ],
      "metadata": {
        "colab": {
          "base_uri": "https://localhost:8080/"
        },
        "id": "jCIhNjRIM-kh",
        "outputId": "8a451315-249b-412e-ee83-35724adb3187"
      },
      "execution_count": null,
      "outputs": [
        {
          "output_type": "stream",
          "name": "stdout",
          "text": [
            "Java is a high-level, class-based, object-oriented programming language\n"
          ]
        }
      ]
    },
    {
      "cell_type": "code",
      "source": [
        "#group()\n",
        "a=\"Java is a high-level, class-based, object-oriented programming language\"\n",
        "b=re.search(r\"\\bJ\\w+\",a)\n",
        "print(b.group())"
      ],
      "metadata": {
        "colab": {
          "base_uri": "https://localhost:8080/"
        },
        "id": "24Y44CtzNM_t",
        "outputId": "9f32767d-9797-4eaf-c6bc-2d70a0e10e2a"
      },
      "execution_count": null,
      "outputs": [
        {
          "output_type": "stream",
          "name": "stdout",
          "text": [
            "Java\n"
          ]
        }
      ]
    },
    {
      "cell_type": "markdown",
      "source": [
        "### Meta characters"
      ],
      "metadata": {
        "id": "jpoihsDsNhIb"
      }
    },
    {
      "cell_type": "code",
      "source": [
        "# []\n",
        "import re\n",
        "a=\"Sonic the Hedgehog is a 2020 action-adventure comedy film based on the video game series published by Sega\"\n",
        "b=re.findall(\"[a-k]\",a)\n",
        "print(b)"
      ],
      "metadata": {
        "colab": {
          "base_uri": "https://localhost:8080/"
        },
        "id": "rElhouF7NTzi",
        "outputId": "27ac1870-5bed-4ae7-9e69-3fb9679383ee"
      },
      "execution_count": null,
      "outputs": [
        {
          "output_type": "stream",
          "name": "stdout",
          "text": [
            "['i', 'c', 'h', 'e', 'e', 'd', 'g', 'e', 'h', 'g', 'i', 'a', 'a', 'c', 'i', 'a', 'd', 'e', 'e', 'c', 'e', 'd', 'f', 'i', 'b', 'a', 'e', 'd', 'h', 'e', 'i', 'd', 'e', 'g', 'a', 'e', 'e', 'i', 'e', 'b', 'i', 'h', 'e', 'd', 'b', 'e', 'g', 'a']\n"
          ]
        }
      ]
    },
    {
      "cell_type": "code",
      "source": [
        "# \\\n",
        "import re\n",
        "a=\"I saw the 2 parts of sonic movie\"\n",
        "b=re.findall(\"\\d\",a)\n",
        "print(b)"
      ],
      "metadata": {
        "colab": {
          "base_uri": "https://localhost:8080/"
        },
        "id": "Icb89BnsOOXs",
        "outputId": "bbf0747e-3a6d-4ee1-d71d-95fba0dab4fb"
      },
      "execution_count": null,
      "outputs": [
        {
          "output_type": "stream",
          "name": "stdout",
          "text": [
            "['2']\n"
          ]
        }
      ]
    },
    {
      "cell_type": "code",
      "source": [
        "# .\n",
        "import re\n",
        "a=\"Hello python!\"\n",
        "b=re.findall(\"He..o\",a)\n",
        "print(b)"
      ],
      "metadata": {
        "id": "vUb_wP8XOqJ8",
        "colab": {
          "base_uri": "https://localhost:8080/"
        },
        "outputId": "3b40158a-d7e2-4e3f-e900-fc539da2bdca"
      },
      "execution_count": 25,
      "outputs": [
        {
          "output_type": "stream",
          "name": "stdout",
          "text": [
            "['Hello']\n"
          ]
        }
      ]
    },
    {
      "cell_type": "code",
      "source": [
        "# ^\n",
        "import re\n",
        "a=\"Hello python!\"\n",
        "b=re.findall(\"^Hello\",a)\n",
        "if b:\n",
        "  print(\"Yes!Well done\")\n",
        "else:\n",
        "  print(\"Try again\")"
      ],
      "metadata": {
        "colab": {
          "base_uri": "https://localhost:8080/"
        },
        "id": "rQpYeAm4Srbl",
        "outputId": "4ed031f6-5389-4350-a8d9-b5139ade1158"
      },
      "execution_count": 26,
      "outputs": [
        {
          "output_type": "stream",
          "name": "stdout",
          "text": [
            "Yes!Well done\n"
          ]
        }
      ]
    },
    {
      "cell_type": "code",
      "source": [
        "# $\n",
        "import re\n",
        "a=\"Hello python!\"\n",
        "b=re.findall(\"python!$\",a)\n",
        "if b:\n",
        "  print(\"Yes!Well done\")\n",
        "else:\n",
        "  print(\"Try again\")"
      ],
      "metadata": {
        "colab": {
          "base_uri": "https://localhost:8080/"
        },
        "id": "jLuJ44BeTRKM",
        "outputId": "7794baae-ff36-41ac-c4ac-34932fd6c32b"
      },
      "execution_count": 28,
      "outputs": [
        {
          "output_type": "stream",
          "name": "stdout",
          "text": [
            "Yes!Well done\n"
          ]
        }
      ]
    },
    {
      "cell_type": "code",
      "source": [
        "# *\n",
        "import re\n",
        "a=\"Hello Yang!\"\n",
        "b= re.findall(\"He.*o\",a)\n",
        "print(b)"
      ],
      "metadata": {
        "colab": {
          "base_uri": "https://localhost:8080/"
        },
        "id": "cFEa-DVqTpPb",
        "outputId": "0fb2287c-c688-4547-dcbe-00720baf5a62"
      },
      "execution_count": 31,
      "outputs": [
        {
          "output_type": "stream",
          "name": "stdout",
          "text": [
            "['Hello']\n"
          ]
        }
      ]
    },
    {
      "cell_type": "code",
      "source": [
        "# +\n",
        "import re\n",
        "a=\"Hello Yang!\"\n",
        "b= re.findall(\"He.+o\",a)\n",
        "print(b)"
      ],
      "metadata": {
        "colab": {
          "base_uri": "https://localhost:8080/"
        },
        "id": "KrvPwo7AU-AS",
        "outputId": "e8dd1c8b-0c85-4fa4-90b2-5deb3eff65dc"
      },
      "execution_count": 32,
      "outputs": [
        {
          "output_type": "stream",
          "name": "stdout",
          "text": [
            "['Hello']\n"
          ]
        }
      ]
    },
    {
      "cell_type": "code",
      "source": [
        "# ?\n",
        "import re\n",
        "a=\"Hello Yang!\"\n",
        "b= re.findall(\"He.?o\",a)\n",
        "print(b)"
      ],
      "metadata": {
        "colab": {
          "base_uri": "https://localhost:8080/"
        },
        "id": "9D8LNvxcVdV9",
        "outputId": "eaeb77d5-7850-43c9-ae0c-cbdd7aa97ece"
      },
      "execution_count": 33,
      "outputs": [
        {
          "output_type": "stream",
          "name": "stdout",
          "text": [
            "[]\n"
          ]
        }
      ]
    },
    {
      "cell_type": "code",
      "source": [
        "# {}\n",
        "import re\n",
        "a=\"Hello Yang!\"\n",
        "b= re.findall(\"He.{2}o\",a)\n",
        "print(b)"
      ],
      "metadata": {
        "colab": {
          "base_uri": "https://localhost:8080/"
        },
        "id": "XuGztOHOVnGz",
        "outputId": "8b0caa8f-a445-44bc-8b83-ef91b7ce879f"
      },
      "execution_count": 34,
      "outputs": [
        {
          "output_type": "stream",
          "name": "stdout",
          "text": [
            "['Hello']\n"
          ]
        }
      ]
    },
    {
      "cell_type": "code",
      "source": [
        "# |\n",
        "import re\n",
        "a=\"India won the 3rd T20 against south africa by 48 runs\"\n",
        "b=re.findall(\"won|lost\",a)\n",
        "print(b)\n",
        "if b:\n",
        "  print(\"Yes,there is one match\")\n",
        "else:\n",
        "  print(\"No match\")\n"
      ],
      "metadata": {
        "colab": {
          "base_uri": "https://localhost:8080/"
        },
        "id": "wZfMw5ndV3Vp",
        "outputId": "69ca6f5b-3e09-4706-c019-85e62ce43a19"
      },
      "execution_count": 35,
      "outputs": [
        {
          "output_type": "stream",
          "name": "stdout",
          "text": [
            "['won']\n",
            "Yes,there is one match\n"
          ]
        }
      ]
    },
    {
      "cell_type": "markdown",
      "source": [
        "### Special sequences"
      ],
      "metadata": {
        "id": "kld3F_72XEl8"
      }
    },
    {
      "cell_type": "code",
      "source": [
        "# \\AThe\n",
        "import re\n",
        "a=\"The 3rd T20 match won by India against south africa\"\n",
        "b=re.findall(\"\\AThe\",a)\n",
        "print(b)\n",
        "if b:\n",
        "  print(\"Yes!it was matched\")\n",
        "else:\n",
        "  print(\"not matched\")"
      ],
      "metadata": {
        "colab": {
          "base_uri": "https://localhost:8080/"
        },
        "id": "aU_oEOumW88A",
        "outputId": "832ac0a2-269f-42e4-9553-a67d5c9d2259"
      },
      "execution_count": 68,
      "outputs": [
        {
          "output_type": "stream",
          "name": "stdout",
          "text": [
            "['The']\n",
            "Yes!it was matched\n"
          ]
        }
      ]
    },
    {
      "cell_type": "code",
      "source": [
        "#r\"\\bain\"\n",
        "import re\n",
        "a=\"The 3rd T20 match won by India against south africa\"\n",
        "b=re.findall(r\"\\bain\",a)\n",
        "print(b)\n",
        "if b:\n",
        "  print(\"Yes!it was matched\")\n",
        "else:\n",
        "  print(\"not matched\")"
      ],
      "metadata": {
        "colab": {
          "base_uri": "https://localhost:8080/"
        },
        "id": "KbLZi0M6bSEV",
        "outputId": "44d673bf-a3d5-41a2-e4b0-c9ae05c88895"
      },
      "execution_count": 71,
      "outputs": [
        {
          "output_type": "stream",
          "name": "stdout",
          "text": [
            "[]\n",
            "not matched\n"
          ]
        }
      ]
    },
    {
      "cell_type": "code",
      "source": [
        "#r\"ain\\b\"\n",
        "import re\n",
        "a=\"The 3rd T20 match won by India against south africa\"\n",
        "b=re.findall(r\"ain\\b\",a)\n",
        "print(b)\n",
        "if b:\n",
        "  print(\"Yes!it was matched\")\n",
        "else:\n",
        "  print(\"not matched\")"
      ],
      "metadata": {
        "colab": {
          "base_uri": "https://localhost:8080/"
        },
        "id": "IYW6s7_SdtsI",
        "outputId": "e73bff16-b1d5-4d41-c6ae-12d2968fe9b9"
      },
      "execution_count": 72,
      "outputs": [
        {
          "output_type": "stream",
          "name": "stdout",
          "text": [
            "[]\n",
            "not matched\n"
          ]
        }
      ]
    },
    {
      "cell_type": "code",
      "source": [
        "#r\"\\Bain\"\n",
        "import re\n",
        "a=\"The 3rd T20 match won by India against south africa\"\n",
        "b=re.findall(r\"\\Bain\",a)\n",
        "print(b)\n",
        "if b:\n",
        "  print(\"Yes!it was matched\")\n",
        "else:\n",
        "  print(\"not matched\")"
      ],
      "metadata": {
        "colab": {
          "base_uri": "https://localhost:8080/"
        },
        "id": "HHRonKV4eBVi",
        "outputId": "93234b49-e4f2-4d92-bd61-4aedebe809df"
      },
      "execution_count": 73,
      "outputs": [
        {
          "output_type": "stream",
          "name": "stdout",
          "text": [
            "['ain']\n",
            "Yes!it was matched\n"
          ]
        }
      ]
    },
    {
      "cell_type": "code",
      "source": [
        "#r\"ain\\B\"\n",
        "import re\n",
        "a=\"The 3rd T20 match won by India against south africa\"\n",
        "b=re.findall(r\"ain\\B\",a)\n",
        "print(b)\n",
        "if b:\n",
        "  print(\"Yes!it was matched\")\n",
        "else:\n",
        "  print(\"not matched\")"
      ],
      "metadata": {
        "colab": {
          "base_uri": "https://localhost:8080/"
        },
        "id": "R3InvC5KeC9p",
        "outputId": "8d5bf2f1-6073-419b-815a-30eae06122f2"
      },
      "execution_count": 74,
      "outputs": [
        {
          "output_type": "stream",
          "name": "stdout",
          "text": [
            "['ain']\n",
            "Yes!it was matched\n"
          ]
        }
      ]
    },
    {
      "cell_type": "code",
      "source": [
        "#\\d\n",
        "import re\n",
        "a=\"The 3rd T20 match won by India against south africa\"\n",
        "b=re.findall(\"\\d\",a)\n",
        "print(b)\n",
        "if b:\n",
        "  print(\"Yes!it was matched\")\n",
        "else:\n",
        "  print(\"not matched\")"
      ],
      "metadata": {
        "colab": {
          "base_uri": "https://localhost:8080/"
        },
        "id": "JWTOF_GSeZuf",
        "outputId": "1e67dd39-d64c-46ca-8ebe-4c791e70d2d2"
      },
      "execution_count": 75,
      "outputs": [
        {
          "output_type": "stream",
          "name": "stdout",
          "text": [
            "['3', '2', '0']\n",
            "Yes!it was matched\n"
          ]
        }
      ]
    },
    {
      "cell_type": "code",
      "source": [
        "#\\D\n",
        "import re\n",
        "a=\"The 3rd T20 match won by India against south africa\"\n",
        "b=re.findall(\"\\D\",a)\n",
        "print(b)\n",
        "if b:\n",
        "  print(\"Yes!it was matched\")\n",
        "else:\n",
        "  print(\"not matched\")"
      ],
      "metadata": {
        "colab": {
          "base_uri": "https://localhost:8080/"
        },
        "id": "-9ne991Nelfj",
        "outputId": "0e0f54f5-03fe-41a8-ecb5-41ffe3d4ad87"
      },
      "execution_count": 76,
      "outputs": [
        {
          "output_type": "stream",
          "name": "stdout",
          "text": [
            "['T', 'h', 'e', ' ', 'r', 'd', ' ', 'T', ' ', 'm', 'a', 't', 'c', 'h', ' ', 'w', 'o', 'n', ' ', 'b', 'y', ' ', 'I', 'n', 'd', 'i', 'a', ' ', 'a', 'g', 'a', 'i', 'n', 's', 't', ' ', 's', 'o', 'u', 't', 'h', ' ', 'a', 'f', 'r', 'i', 'c', 'a']\n",
            "Yes!it was matched\n"
          ]
        }
      ]
    },
    {
      "cell_type": "code",
      "source": [
        "#\\s\n",
        "import re\n",
        "a=\"The 3rd T20 match won by India against south africa\"\n",
        "b=re.findall(\"\\s\",a)\n",
        "print(b)\n",
        "if b:\n",
        "  print(\"Yes!it was matched\")\n",
        "else:\n",
        "  print(\"not matched\")"
      ],
      "metadata": {
        "colab": {
          "base_uri": "https://localhost:8080/"
        },
        "id": "I6ssXCpUetYB",
        "outputId": "9224d85d-2fad-4327-ed7c-2d63fa241112"
      },
      "execution_count": 77,
      "outputs": [
        {
          "output_type": "stream",
          "name": "stdout",
          "text": [
            "[' ', ' ', ' ', ' ', ' ', ' ', ' ', ' ', ' ']\n",
            "Yes!it was matched\n"
          ]
        }
      ]
    },
    {
      "cell_type": "code",
      "source": [
        "#\\S\n",
        "import re\n",
        "a=\"The 3rd T20 match won by India against south africa\"\n",
        "b=re.findall(\"\\S\",a)\n",
        "print(b)\n",
        "if b:\n",
        "  print(\"Yes!it was matched\")\n",
        "else:\n",
        "  print(\"not matched\")"
      ],
      "metadata": {
        "colab": {
          "base_uri": "https://localhost:8080/"
        },
        "id": "AueO7yWuezID",
        "outputId": "0425e89d-3493-474e-d711-f5cba14d2d20"
      },
      "execution_count": 78,
      "outputs": [
        {
          "output_type": "stream",
          "name": "stdout",
          "text": [
            "['T', 'h', 'e', '3', 'r', 'd', 'T', '2', '0', 'm', 'a', 't', 'c', 'h', 'w', 'o', 'n', 'b', 'y', 'I', 'n', 'd', 'i', 'a', 'a', 'g', 'a', 'i', 'n', 's', 't', 's', 'o', 'u', 't', 'h', 'a', 'f', 'r', 'i', 'c', 'a']\n",
            "Yes!it was matched\n"
          ]
        }
      ]
    },
    {
      "cell_type": "code",
      "source": [
        "#\\w\n",
        "import re\n",
        "a=\"The 3rd T20 match won by India against south africa\"\n",
        "b=re.findall(\"\\w\",a)\n",
        "print(b)\n",
        "if b:\n",
        "  print(\"Yes!it was matched\")\n",
        "else:\n",
        "  print(\"not matched\")"
      ],
      "metadata": {
        "colab": {
          "base_uri": "https://localhost:8080/"
        },
        "id": "G209NM6CfDn5",
        "outputId": "434b8cdb-c6f1-46e7-893b-122eb6d0e539"
      },
      "execution_count": 79,
      "outputs": [
        {
          "output_type": "stream",
          "name": "stdout",
          "text": [
            "['T', 'h', 'e', '3', 'r', 'd', 'T', '2', '0', 'm', 'a', 't', 'c', 'h', 'w', 'o', 'n', 'b', 'y', 'I', 'n', 'd', 'i', 'a', 'a', 'g', 'a', 'i', 'n', 's', 't', 's', 'o', 'u', 't', 'h', 'a', 'f', 'r', 'i', 'c', 'a']\n",
            "Yes!it was matched\n"
          ]
        }
      ]
    },
    {
      "cell_type": "code",
      "source": [
        "#\\W\n",
        "import re\n",
        "a=\"The 3rd T20 match won by India against south africa\"\n",
        "b=re.findall(\"\\W\",a)\n",
        "print(b)\n",
        "if b:\n",
        "  print(\"Yes!it was matched\")\n",
        "else:\n",
        "  print(\"not matched\")"
      ],
      "metadata": {
        "colab": {
          "base_uri": "https://localhost:8080/"
        },
        "id": "riJ1e_CKfICb",
        "outputId": "a31db6ce-6c00-4d93-e4e2-32e047bf4a0a"
      },
      "execution_count": 80,
      "outputs": [
        {
          "output_type": "stream",
          "name": "stdout",
          "text": [
            "[' ', ' ', ' ', ' ', ' ', ' ', ' ', ' ', ' ']\n",
            "Yes!it was matched\n"
          ]
        }
      ]
    },
    {
      "cell_type": "code",
      "source": [
        "#\\Z\n",
        "import re\n",
        "a=\"The 3rd T20 match won by India against south africa\"\n",
        "b=re.findall(\"\\Z\",a)\n",
        "print(b)\n",
        "if b:\n",
        "  print(\"Yes!it was matched\")\n",
        "else:\n",
        "  print(\"not matched\")"
      ],
      "metadata": {
        "colab": {
          "base_uri": "https://localhost:8080/"
        },
        "id": "bNdrhfNAfL3x",
        "outputId": "a5594adb-28cc-424f-cc15-f0c1024336a5"
      },
      "execution_count": 81,
      "outputs": [
        {
          "output_type": "stream",
          "name": "stdout",
          "text": [
            "['']\n",
            "Yes!it was matched\n"
          ]
        }
      ]
    },
    {
      "cell_type": "markdown",
      "source": [
        "### Sets"
      ],
      "metadata": {
        "id": "BPVU_WILXSVp"
      }
    },
    {
      "cell_type": "code",
      "source": [
        "# [arn]\n",
        "import re\n",
        "a=\"India won the 3rd T20 against south africa by 48 runs\"\n",
        "b=re.findall(\"[arn]\",a)\n",
        "print(b)\n",
        "if b:\n",
        "  print(\"Yes,there is one match\")\n",
        "else:\n",
        "  print(\"No match\")"
      ],
      "metadata": {
        "colab": {
          "base_uri": "https://localhost:8080/"
        },
        "id": "4aR8ObT4XVTQ",
        "outputId": "cbe7f078-9518-470a-d153-8b7321952332"
      },
      "execution_count": 36,
      "outputs": [
        {
          "output_type": "stream",
          "name": "stdout",
          "text": [
            "['n', 'a', 'n', 'r', 'a', 'a', 'n', 'a', 'r', 'a', 'r', 'n']\n",
            "Yes,there is one match\n"
          ]
        }
      ]
    },
    {
      "cell_type": "code",
      "source": [
        "# [a-n]\n",
        "import re\n",
        "a=\"India won the 3rd T20 against south africa by 48 runs\"\n",
        "b=re.findall(\"[a-n]\",a)\n",
        "print(b)\n",
        "if b:\n",
        "  print(\"Yes,there is one match\")\n",
        "else:\n",
        "  print(\"No match\")"
      ],
      "metadata": {
        "colab": {
          "base_uri": "https://localhost:8080/"
        },
        "id": "_llqVD9mXoMl",
        "outputId": "2746f406-13b1-40fe-bb4b-1404ecb03025"
      },
      "execution_count": 37,
      "outputs": [
        {
          "output_type": "stream",
          "name": "stdout",
          "text": [
            "['n', 'd', 'i', 'a', 'n', 'h', 'e', 'd', 'a', 'g', 'a', 'i', 'n', 'h', 'a', 'f', 'i', 'c', 'a', 'b', 'n']\n",
            "Yes,there is one match\n"
          ]
        }
      ]
    },
    {
      "cell_type": "code",
      "source": [
        "# [^arn]\n",
        "import re\n",
        "a=\"India won the 3rd T20 against south africa by 48 runs\"\n",
        "b=re.findall(\"[^arn]\",a)\n",
        "print(b)\n",
        "if b:\n",
        "  print(\"Yes,there is one match\")\n",
        "else:\n",
        "  print(\"No match\")"
      ],
      "metadata": {
        "colab": {
          "base_uri": "https://localhost:8080/"
        },
        "id": "A_bMlK0PX0TE",
        "outputId": "12173231-5d02-466f-fd13-904c543c36ba"
      },
      "execution_count": 38,
      "outputs": [
        {
          "output_type": "stream",
          "name": "stdout",
          "text": [
            "['I', 'd', 'i', ' ', 'w', 'o', ' ', 't', 'h', 'e', ' ', '3', 'd', ' ', 'T', '2', '0', ' ', 'g', 'i', 's', 't', ' ', 's', 'o', 'u', 't', 'h', ' ', 'f', 'i', 'c', ' ', 'b', 'y', ' ', '4', '8', ' ', 'u', 's']\n",
            "Yes,there is one match\n"
          ]
        }
      ]
    },
    {
      "cell_type": "code",
      "source": [
        "# [0123]\n",
        "import re\n",
        "a=\"India won the 3rd T20 against south africa by 48 runs\"\n",
        "b=re.findall(\"[0123]\",a)\n",
        "print(b)\n",
        "if b:\n",
        "  print(\"Yes,there is one match\")\n",
        "else:\n",
        "  print(\"No match\")"
      ],
      "metadata": {
        "colab": {
          "base_uri": "https://localhost:8080/"
        },
        "id": "-4AIjdOVX-wp",
        "outputId": "4cc9293f-bc27-4f7e-e568-2b57a76c6e74"
      },
      "execution_count": 39,
      "outputs": [
        {
          "output_type": "stream",
          "name": "stdout",
          "text": [
            "['3', '2', '0']\n",
            "Yes,there is one match\n"
          ]
        }
      ]
    },
    {
      "cell_type": "code",
      "source": [
        "# [0-9]\n",
        "import re\n",
        "a=\"India won the 3rd T20 against south africa by 48 runs\"\n",
        "b=re.findall(\"[0-9]\",a)\n",
        "print(b)\n",
        "if b:\n",
        "  print(\"Yes,there is one match\")\n",
        "else:\n",
        "  print(\"No match\")"
      ],
      "metadata": {
        "colab": {
          "base_uri": "https://localhost:8080/"
        },
        "id": "wMEVW704YM8F",
        "outputId": "46399dce-7b74-4012-a861-c84ac929a4d4"
      },
      "execution_count": 40,
      "outputs": [
        {
          "output_type": "stream",
          "name": "stdout",
          "text": [
            "['3', '2', '0', '4', '8']\n",
            "Yes,there is one match\n"
          ]
        }
      ]
    },
    {
      "cell_type": "code",
      "source": [
        "# [0-5][0-9]\n",
        "import re\n",
        "a=\"India won the 3rd T20 against south africa by 48 runs\"\n",
        "b=re.findall(\"[0-5][0-9]\",a)\n",
        "print(b)\n",
        "if b:\n",
        "  print(\"Yes,there is one match\")\n",
        "else:\n",
        "  print(\"No match\")"
      ],
      "metadata": {
        "colab": {
          "base_uri": "https://localhost:8080/"
        },
        "id": "yyG2L_dHYc64",
        "outputId": "d2c5e39f-f35d-48fe-83e5-4cddd857ce29"
      },
      "execution_count": 41,
      "outputs": [
        {
          "output_type": "stream",
          "name": "stdout",
          "text": [
            "['20', '48']\n",
            "Yes,there is one match\n"
          ]
        }
      ]
    },
    {
      "cell_type": "code",
      "source": [
        "# [a-zA-Z]\n",
        "import re\n",
        "a=\"India won the 3rd T20 against south africa by 48 runs\"\n",
        "b=re.findall(\"[a-zA-Z]\",a)\n",
        "print(b)\n",
        "if b:\n",
        "  print(\"Yes,there is one match\")\n",
        "else:\n",
        "  print(\"No match\")"
      ],
      "metadata": {
        "colab": {
          "base_uri": "https://localhost:8080/"
        },
        "id": "LNU5mJHdYrMW",
        "outputId": "ab7e7f70-ee19-41d9-cf31-f8462b92dc9e"
      },
      "execution_count": 42,
      "outputs": [
        {
          "output_type": "stream",
          "name": "stdout",
          "text": [
            "['I', 'n', 'd', 'i', 'a', 'w', 'o', 'n', 't', 'h', 'e', 'r', 'd', 'T', 'a', 'g', 'a', 'i', 'n', 's', 't', 's', 'o', 'u', 't', 'h', 'a', 'f', 'r', 'i', 'c', 'a', 'b', 'y', 'r', 'u', 'n', 's']\n",
            "Yes,there is one match\n"
          ]
        }
      ]
    },
    {
      "cell_type": "code",
      "source": [
        "# [+]\n",
        "import re\n",
        "a=\"India won the 3rd T20 against south africa by 48 runs\"\n",
        "b=re.findall(\"[+]\",a)\n",
        "print(b)\n",
        "if b:\n",
        "  print(\"Yes,there is one match\")\n",
        "else:\n",
        "  print(\"No match\")"
      ],
      "metadata": {
        "colab": {
          "base_uri": "https://localhost:8080/"
        },
        "id": "vGTAYJerY-Z3",
        "outputId": "f6b45988-1fa1-4263-f6bd-563c7c6f05c7"
      },
      "execution_count": 43,
      "outputs": [
        {
          "output_type": "stream",
          "name": "stdout",
          "text": [
            "[]\n",
            "No match\n"
          ]
        }
      ]
    }
  ]
}