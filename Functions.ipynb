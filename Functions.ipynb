{
  "nbformat": 4,
  "nbformat_minor": 0,
  "metadata": {
    "colab": {
      "name": "Functions.ipynb",
      "provenance": [],
      "collapsed_sections": [],
      "authorship_tag": "ABX9TyPJLUsUsDV00VgkDnRUOUOe",
      "include_colab_link": true
    },
    "kernelspec": {
      "name": "python3",
      "display_name": "Python 3"
    },
    "language_info": {
      "name": "python"
    }
  },
  "cells": [
    {
      "cell_type": "markdown",
      "metadata": {
        "id": "view-in-github",
        "colab_type": "text"
      },
      "source": [
        "<a href=\"https://colab.research.google.com/github/ILikhitha/Python-New/blob/module-2/Functions.ipynb\" target=\"_parent\"><img src=\"https://colab.research.google.com/assets/colab-badge.svg\" alt=\"Open In Colab\"/></a>"
      ]
    },
    {
      "cell_type": "code",
      "execution_count": null,
      "metadata": {
        "colab": {
          "base_uri": "https://localhost:8080/"
        },
        "id": "dlawbSO7Lux5",
        "outputId": "7d3f4afa-1829-4835-d6dc-fe5960c55a78"
      },
      "outputs": [
        {
          "output_type": "stream",
          "name": "stdout",
          "text": [
            "I saw kgf2 movie\n"
          ]
        }
      ],
      "source": [
        "# Creating a function,Calling \n",
        "def Likhitha():\n",
        "  print(\"I saw kgf2 movie\")                 # no argument,no return value #\n",
        "\n",
        "Likhitha()"
      ]
    },
    {
      "cell_type": "code",
      "source": [
        "# Arguments\n",
        "def Example(Name):\n",
        "  print(\"Hello\"+ ' '+Name)\n",
        "\n",
        "Example(\"Yang\")\n",
        "Example(\"Wang\")\n",
        "Example(\"Kai\")\n",
        "Example(\"Lin\")"
      ],
      "metadata": {
        "colab": {
          "base_uri": "https://localhost:8080/"
        },
        "id": "9eWcznI-VPiZ",
        "outputId": "ba1f05c9-202f-4f1a-e191-6ee50bfc5596"
      },
      "execution_count": null,
      "outputs": [
        {
          "output_type": "stream",
          "name": "stdout",
          "text": [
            "Hello Yang\n",
            "Hello Wang\n",
            "Hello Kai\n",
            "Hello Lin\n"
          ]
        }
      ]
    },
    {
      "cell_type": "code",
      "source": [
        "# Number of Arguments\n",
        "def Example(Name,Genius):\n",
        "  print(Name+' '+\"is\"+ ' '+Genius)                      # with argument,no return value#\n",
        "Example(\"Wang\",\"Talented\")"
      ],
      "metadata": {
        "colab": {
          "base_uri": "https://localhost:8080/"
        },
        "id": "zrWTQBkUX9Xg",
        "outputId": "8a4a4056-b7b2-41bf-e30c-f60aef7e98f7"
      },
      "execution_count": null,
      "outputs": [
        {
          "output_type": "stream",
          "name": "stdout",
          "text": [
            "Wang is Talented\n"
          ]
        }
      ]
    },
    {
      "cell_type": "code",
      "source": [
        "# Arbitrary Arguments\n",
        "def Example(*Stars):\n",
        "  print(\"The top stars are\"+' '+ Stars[1])\n",
        "Example(\"Yang\",\"Wang\",\"Kai\",\"Lin\")"
      ],
      "metadata": {
        "colab": {
          "base_uri": "https://localhost:8080/"
        },
        "id": "V5tmFYCXZV5w",
        "outputId": "b1238a58-00e3-405f-ef82-7f120dde34a4"
      },
      "execution_count": null,
      "outputs": [
        {
          "output_type": "stream",
          "name": "stdout",
          "text": [
            "The top stars are Wang\n"
          ]
        }
      ]
    },
    {
      "cell_type": "code",
      "source": [
        "# With Argument,No return value\n",
        "def voting(Name,Age,Gender):\n",
        "  print(\"Name:\" +Name )\n",
        "  print(\"Age:\" +Age )\n",
        "  print(\"Gender:\" +Gender )\n",
        "voting(\"Wang\",\"25\",\"Male\")"
      ],
      "metadata": {
        "colab": {
          "base_uri": "https://localhost:8080/"
        },
        "id": "3rk02a00akh9",
        "outputId": "7b717d6a-4044-4eb2-81a2-cdef849a6445"
      },
      "execution_count": null,
      "outputs": [
        {
          "output_type": "stream",
          "name": "stdout",
          "text": [
            "Name:Wang\n",
            "Age:25\n",
            "Gender:Male\n"
          ]
        }
      ]
    },
    {
      "cell_type": "code",
      "source": [
        "# Keyword arguments\n",
        "def Example(Star1,Star2,Star3):\n",
        "  print(\"The top star is\"+' '+ Star1)\n",
        "Example(Star1=\"Wang\",Star2=\"yang\",Star3=\"Kai\")"
      ],
      "metadata": {
        "colab": {
          "base_uri": "https://localhost:8080/"
        },
        "id": "LeN3VEB3fdbs",
        "outputId": "71cc1e1a-3eb5-4842-afb2-ed9e30cde687"
      },
      "execution_count": null,
      "outputs": [
        {
          "output_type": "stream",
          "name": "stdout",
          "text": [
            "The top star is Wang\n"
          ]
        }
      ]
    },
    {
      "cell_type": "code",
      "source": [
        "# Using **\n",
        "def Example(**Stars):\n",
        "  print(\"The top star is\"+' '+ Stars[\"Star1\"])\n",
        "Example(Star1=\"Wang\",Star2=\"yang\")"
      ],
      "metadata": {
        "colab": {
          "base_uri": "https://localhost:8080/"
        },
        "id": "_4TZttqYjjrj",
        "outputId": "d8af3acf-32ed-4e11-9989-392794c0cf66"
      },
      "execution_count": null,
      "outputs": [
        {
          "output_type": "stream",
          "name": "stdout",
          "text": [
            "The top star is Wang\n"
          ]
        }
      ]
    },
    {
      "cell_type": "code",
      "source": [
        "# Default parameter value\n",
        "def stars(great=\"Wang\"):\n",
        "  print(\"The top star is\"+\" \"+great)\n",
        "stars(\"Yang\")\n",
        "stars()\n",
        "stars(\"Kai\")\n",
        "stars(\"Lin\")"
      ],
      "metadata": {
        "colab": {
          "base_uri": "https://localhost:8080/"
        },
        "id": "oE_Da4Mqe9vU",
        "outputId": "8a824ee0-f7b6-4e87-e61b-d988a54649e4"
      },
      "execution_count": null,
      "outputs": [
        {
          "output_type": "stream",
          "name": "stdout",
          "text": [
            "The top star is Yang\n",
            "The top star is Wang\n",
            "The top star is Kai\n",
            "The top star is Lin\n"
          ]
        }
      ]
    },
    {
      "cell_type": "code",
      "source": [
        "# List as argument\n",
        "def Name(stars):\n",
        "  for i in stars:\n",
        "    print(i)\n",
        "\n",
        "Top=[\"Yang\",\"Wang\",\"Kai\",\"Lin\"]\n",
        "Name(Top)"
      ],
      "metadata": {
        "colab": {
          "base_uri": "https://localhost:8080/"
        },
        "id": "MGOec1lSkRUE",
        "outputId": "0ad0af4d-f219-4a18-ae51-dbd1b16dc751"
      },
      "execution_count": null,
      "outputs": [
        {
          "output_type": "stream",
          "name": "stdout",
          "text": [
            "Yang\n",
            "Wang\n",
            "Kai\n",
            "Lin\n"
          ]
        }
      ]
    },
    {
      "cell_type": "code",
      "source": [
        "# Return values\n",
        "def stars(i):\n",
        "  return 5*i\n",
        "print(stars(1))\n",
        "print(stars(2))\n",
        "print(stars(3))\n",
        "print(stars(4))\n",
        "print(stars(5))"
      ],
      "metadata": {
        "colab": {
          "base_uri": "https://localhost:8080/"
        },
        "id": "sGBfhS9-lDmk",
        "outputId": "c2a1b698-ed10-40a0-abbd-4310e9469810"
      },
      "execution_count": null,
      "outputs": [
        {
          "output_type": "stream",
          "name": "stdout",
          "text": [
            "5\n",
            "10\n",
            "15\n",
            "20\n",
            "25\n"
          ]
        }
      ]
    },
    {
      "cell_type": "code",
      "source": [
        "def stars():\n",
        "  pass"
      ],
      "metadata": {
        "id": "dXtbay9zlp1c"
      },
      "execution_count": null,
      "outputs": []
    },
    {
      "cell_type": "code",
      "source": [
        "# Recursion\n",
        "def stars(i):\n",
        "  if(i>0):\n",
        "    result= i+stars(i-1)\n",
        "    print(result)\n",
        "  else:\n",
        "    result=0\n",
        "  return result\n",
        "print(\"Stars results:\")\n",
        "stars(10)"
      ],
      "metadata": {
        "colab": {
          "base_uri": "https://localhost:8080/"
        },
        "id": "aetY6jeel0cT",
        "outputId": "b96f8fd9-62d4-4477-e944-2776cbe2ad63"
      },
      "execution_count": null,
      "outputs": [
        {
          "output_type": "stream",
          "name": "stdout",
          "text": [
            "Stars results:\n",
            "1\n",
            "3\n",
            "6\n",
            "10\n",
            "15\n",
            "21\n",
            "28\n",
            "36\n",
            "45\n",
            "55\n"
          ]
        },
        {
          "output_type": "execute_result",
          "data": {
            "text/plain": [
              "55"
            ]
          },
          "metadata": {},
          "execution_count": 10
        }
      ]
    }
  ]
}