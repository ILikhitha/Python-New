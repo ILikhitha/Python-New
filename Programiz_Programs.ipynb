{
  "nbformat": 4,
  "nbformat_minor": 0,
  "metadata": {
    "colab": {
      "name": "Programiz Programs.ipynb",
      "provenance": [],
      "collapsed_sections": [],
      "authorship_tag": "ABX9TyMEMaqB96hEv57nsK5MToPi",
      "include_colab_link": true
    },
    "kernelspec": {
      "name": "python3",
      "display_name": "Python 3"
    },
    "language_info": {
      "name": "python"
    }
  },
  "cells": [
    {
      "cell_type": "markdown",
      "metadata": {
        "id": "view-in-github",
        "colab_type": "text"
      },
      "source": [
        "<a href=\"https://colab.research.google.com/github/ILikhitha/Python-New/blob/module-1/Programiz_Programs.ipynb\" target=\"_parent\"><img src=\"https://colab.research.google.com/assets/colab-badge.svg\" alt=\"Open In Colab\"/></a>"
      ]
    },
    {
      "cell_type": "code",
      "execution_count": null,
      "metadata": {
        "colab": {
          "base_uri": "https://localhost:8080/"
        },
        "id": "4GVVGNk3Pkr2",
        "outputId": "a53c8d51-fa3c-437f-84bb-504cb253f74b"
      },
      "outputs": [
        {
          "output_type": "stream",
          "name": "stdout",
          "text": [
            "Hello world!\n"
          ]
        }
      ],
      "source": [
        "# 1.Python Program to Print Hello world!\n",
        "print(\"Hello world!\")"
      ]
    },
    {
      "cell_type": "code",
      "source": [
        "# 2.Python Program to Add Two Numbers\n",
        "# Static\n",
        "a=5\n",
        "b=50\n",
        "c=a+b\n",
        "print(c)"
      ],
      "metadata": {
        "colab": {
          "base_uri": "https://localhost:8080/"
        },
        "id": "F_Aba7sFQaGL",
        "outputId": "8e22975c-5688-4d3b-e396-ddedb294f0c7"
      },
      "execution_count": null,
      "outputs": [
        {
          "output_type": "stream",
          "name": "stdout",
          "text": [
            "55\n"
          ]
        }
      ]
    },
    {
      "cell_type": "code",
      "source": [
        "# 2.Python Program to Add Two Numbers\n",
        "# Dynamic\n",
        "a=int(input(\"Enter first number:\"))\n",
        "b=int(input(\"Enter second number:\"))\n",
        "c=a+b\n",
        "print(c)"
      ],
      "metadata": {
        "colab": {
          "base_uri": "https://localhost:8080/"
        },
        "id": "vXnkRKVqQpOu",
        "outputId": "ae7f7fb0-30a9-4a0f-8439-809f5268e496"
      },
      "execution_count": null,
      "outputs": [
        {
          "output_type": "stream",
          "name": "stdout",
          "text": [
            "Enter first number:5\n",
            "Enter second number:50\n",
            "55\n"
          ]
        }
      ]
    },
    {
      "cell_type": "code",
      "source": [
        "# 3.Python Program to Find the Square Root\n",
        "n=int(input(\"Enter a number:\"))\n",
        "a=n**0.5\n",
        "print(a)"
      ],
      "metadata": {
        "colab": {
          "base_uri": "https://localhost:8080/"
        },
        "id": "Kb50RtWRRAnw",
        "outputId": "910f0673-9e40-455f-8c86-c2621519145a"
      },
      "execution_count": null,
      "outputs": [
        {
          "output_type": "stream",
          "name": "stdout",
          "text": [
            "Enter a number:4\n",
            "2.0\n"
          ]
        }
      ]
    },
    {
      "cell_type": "code",
      "source": [
        "# 4.Python Program to Calculate the Area of a Triangle\n",
        "b=int(input(\"Enter base value:\"))\n",
        "h=int(input(\"Enter height value:\"))\n",
        "Area=(1/2)*b*h\n",
        "print(Area)"
      ],
      "metadata": {
        "colab": {
          "base_uri": "https://localhost:8080/"
        },
        "id": "VT-FKN2rRc7T",
        "outputId": "f0909a99-93bd-4340-c994-bf1b5230bf61"
      },
      "execution_count": null,
      "outputs": [
        {
          "output_type": "stream",
          "name": "stdout",
          "text": [
            "Enter base value:5\n",
            "Enter height value:8\n",
            "20.0\n"
          ]
        }
      ]
    },
    {
      "cell_type": "code",
      "source": [
        "# 5.Python Program to Solve Quadratic Equation\n",
        "a=int(input(\"Enter first value:\"))\n",
        "b=int(input(\"Enter second value:\"))\n",
        "c=int(input(\"Enter third value:\"))\n",
        "d=b*b-4*a*c\n",
        "x=(-b+d**0.5)/2*a\n",
        "y=(-b-d**0.5)/2*a\n",
        "print(x)\n",
        "print(y)"
      ],
      "metadata": {
        "colab": {
          "base_uri": "https://localhost:8080/"
        },
        "id": "UGYZTiSWSEMq",
        "outputId": "240327c8-d1ea-4168-984a-fb68a4710bfd"
      },
      "execution_count": null,
      "outputs": [
        {
          "output_type": "stream",
          "name": "stdout",
          "text": [
            "Enter first value:1\n",
            "Enter second value:4\n",
            "Enter third value:1\n",
            "-0.2679491924311228\n",
            "-3.732050807568877\n"
          ]
        }
      ]
    },
    {
      "cell_type": "code",
      "source": [
        "# 6.Python Program to Swap Two Variables\n",
        "a=int(input(\"Enter first number:\"))\n",
        "b=int(input(\"Enter second number:\"))\n",
        "c=a\n",
        "a=b\n",
        "b=c\n",
        "print(a)\n",
        "print(b)"
      ],
      "metadata": {
        "colab": {
          "base_uri": "https://localhost:8080/"
        },
        "id": "ZRsGWOgdTt2d",
        "outputId": "632a5fa4-55db-40a9-cdeb-9558c2222e1e"
      },
      "execution_count": null,
      "outputs": [
        {
          "output_type": "stream",
          "name": "stdout",
          "text": [
            "Enter first number:5\n",
            "Enter second number:55\n",
            "55\n",
            "5\n"
          ]
        }
      ]
    },
    {
      "cell_type": "code",
      "source": [
        "# 7.Python Program to Generate a Random Number\n",
        "import random\n",
        "print(random.randint(0,9))"
      ],
      "metadata": {
        "colab": {
          "base_uri": "https://localhost:8080/"
        },
        "id": "OukCQ57KVFuW",
        "outputId": "dc348fbc-7ad5-46af-89c2-c2558aa275bb"
      },
      "execution_count": null,
      "outputs": [
        {
          "output_type": "stream",
          "name": "stdout",
          "text": [
            "7\n"
          ]
        }
      ]
    },
    {
      "cell_type": "code",
      "source": [
        "# 8.Python Program to Convert Kilometers to Miles\n",
        "a=int(input(\"Enter distance in kilometers:\"))\n",
        "b=a*0.621\n",
        "print(b)"
      ],
      "metadata": {
        "colab": {
          "base_uri": "https://localhost:8080/"
        },
        "id": "qhxQjxBOWZLk",
        "outputId": "6804b8cc-5d9e-45f8-d896-9943fba92446"
      },
      "execution_count": null,
      "outputs": [
        {
          "output_type": "stream",
          "name": "stdout",
          "text": [
            "Enter distance in kilometers:5\n",
            "3.105\n"
          ]
        }
      ]
    },
    {
      "cell_type": "code",
      "source": [
        "# 9.Python Program to Convert Celsius To Fahrenheit\n",
        "a=int(input(\"Enter temperature in celsius:\"))\n",
        "b=(a*1.8)+32\n",
        "print(b)"
      ],
      "metadata": {
        "colab": {
          "base_uri": "https://localhost:8080/"
        },
        "id": "L5xr0M3xZHoy",
        "outputId": "0dd40e02-f481-467d-b7c7-31eee0234ca4"
      },
      "execution_count": null,
      "outputs": [
        {
          "output_type": "stream",
          "name": "stdout",
          "text": [
            "Enter temperature in celsius:5\n",
            "41.0\n"
          ]
        }
      ]
    },
    {
      "cell_type": "code",
      "source": [
        "# 10.Python Program to Check if a Number is Positive, Negative or 0\n",
        "a=int(input(\"Enter a number:\"))\n",
        "if a>0:\n",
        "  print(\"Number is positive\")\n",
        "elif a==0:\n",
        "  print(\"Number is zero\")\n",
        "else:\n",
        "  print(\"Number is negative\")"
      ],
      "metadata": {
        "colab": {
          "base_uri": "https://localhost:8080/"
        },
        "id": "sxxjaZQFZ41C",
        "outputId": "604462ad-8b13-4356-8c7b-50eae085fd0d"
      },
      "execution_count": null,
      "outputs": [
        {
          "output_type": "stream",
          "name": "stdout",
          "text": [
            "Enter a number:5\n",
            "Number is positive\n"
          ]
        }
      ]
    },
    {
      "cell_type": "code",
      "source": [
        "# 11.Python Program to Check if a Number is Odd or Even\n",
        "a=int(input(\"Enter a number:\"))\n",
        "if a%2==0:\n",
        "  print(\"Number is even\")\n",
        "else:\n",
        "  print(\"Number is odd\")"
      ],
      "metadata": {
        "colab": {
          "base_uri": "https://localhost:8080/"
        },
        "id": "3n7twyDLb-5S",
        "outputId": "8d1bb25c-3c76-4427-ab1b-7b56ec12bbd2"
      },
      "execution_count": null,
      "outputs": [
        {
          "output_type": "stream",
          "name": "stdout",
          "text": [
            "Enter a number:5\n",
            "Number is odd\n"
          ]
        }
      ]
    },
    {
      "cell_type": "code",
      "source": [
        "# 12.Python Program to Check Leap Year\n",
        "a=int(input(\"Enter a year:\"))\n",
        "if a%400==0:\n",
        "  print(\"leap year\")\n",
        "else:\n",
        "  print(\"Not a leap year\")"
      ],
      "metadata": {
        "colab": {
          "base_uri": "https://localhost:8080/"
        },
        "id": "sa2NBgSdcg88",
        "outputId": "e0c0a05d-0012-48f2-d954-c2604ed87498"
      },
      "execution_count": null,
      "outputs": [
        {
          "output_type": "stream",
          "name": "stdout",
          "text": [
            "Enter a year:2022\n",
            "Not a leap year\n"
          ]
        }
      ]
    },
    {
      "cell_type": "code",
      "source": [
        "# 13.Python Program to Find the Largest Among Three Numbers\n",
        "a=int(input(\"Enter first number:\"))\n",
        "b=int(input(\"Enter second number:\"))\n",
        "c=int(input(\"Enter third number:\"))\n",
        "if a>b and a>c:\n",
        "  print(\"a is largest\")\n",
        "elif b>a and b>c:\n",
        "  print(\"b is largest\")\n",
        "else:\n",
        "  print(\"c is largest\")"
      ],
      "metadata": {
        "colab": {
          "base_uri": "https://localhost:8080/"
        },
        "id": "IdCuf73wc_AZ",
        "outputId": "49b5eff6-b56e-4c58-f5b4-c6109592636b"
      },
      "execution_count": null,
      "outputs": [
        {
          "output_type": "stream",
          "name": "stdout",
          "text": [
            "Enter first number:5\n",
            "Enter second number:55\n",
            "Enter third number:555\n",
            "c is largest\n"
          ]
        }
      ]
    },
    {
      "cell_type": "code",
      "source": [
        "# 14.Python Program to Check Prime Number\n",
        "n=int(input(\"Enter the number:\"))\n",
        "if n%i==0:           \n",
        "         print(\"not a prime number\")\n",
        "else:\n",
        "    print(\"prime number\")"
      ],
      "metadata": {
        "colab": {
          "base_uri": "https://localhost:8080/"
        },
        "id": "uz8oVwDud76R",
        "outputId": "49318910-27bd-44b4-f926-f0fddbf3f3a9"
      },
      "execution_count": null,
      "outputs": [
        {
          "output_type": "stream",
          "name": "stdout",
          "text": [
            "Enter the number:5\n",
            "prime number\n"
          ]
        }
      ]
    },
    {
      "cell_type": "code",
      "source": [
        "# 15.Python Program to Print all Prime Numbers in an Interval\n",
        "a=int(input(\"Start from number:\"))\n",
        "b=int(input(\"End to a number:\"))\n",
        "for n in range(a,b+1):\n",
        "  if n>1:\n",
        "    for i in range(2,n):\n",
        "      if (n%i)==0:\n",
        "        break\n",
        "    else:\n",
        "     print(n)"
      ],
      "metadata": {
        "colab": {
          "base_uri": "https://localhost:8080/"
        },
        "id": "SVBqiY77hxtr",
        "outputId": "935ea546-73cd-4cfa-c976-50c72adab545"
      },
      "execution_count": null,
      "outputs": [
        {
          "output_type": "stream",
          "name": "stdout",
          "text": [
            "Start from number:1\n",
            "End to a number:100\n",
            "2\n",
            "3\n",
            "5\n",
            "7\n",
            "11\n",
            "13\n",
            "17\n",
            "19\n",
            "23\n",
            "29\n",
            "31\n",
            "37\n",
            "41\n",
            "43\n",
            "47\n",
            "53\n",
            "59\n",
            "61\n",
            "67\n",
            "71\n",
            "73\n",
            "79\n",
            "83\n",
            "89\n",
            "97\n"
          ]
        }
      ]
    },
    {
      "cell_type": "code",
      "source": [
        "# 16.Python Program to Find the Factorial of a Number\n",
        "n=int(input(\"Enter a number:\"))\n",
        "factorial=1\n",
        "if n<0:\n",
        "      print(\"factorial does not exist\")\n",
        "elif n==0:\n",
        "      print(\"factorial is 1\")\n",
        "else:\n",
        "  for i in range(1,n+1):\n",
        "       factorial = factorial*i\n",
        "  print(\"The factorial of\",n,\"is\",factorial)"
      ],
      "metadata": {
        "colab": {
          "base_uri": "https://localhost:8080/"
        },
        "id": "ih0AdiA_kTTH",
        "outputId": "36d5fb71-1905-4beb-f1b0-8f5142df8e08"
      },
      "execution_count": null,
      "outputs": [
        {
          "output_type": "stream",
          "name": "stdout",
          "text": [
            "Enter a number:5\n",
            "The factorial of 5 is 120\n"
          ]
        }
      ]
    },
    {
      "cell_type": "code",
      "source": [
        "# 17.Python Program to Display the multiplication Table\n",
        "n=int(input(\"Enter a required number table:\"))\n",
        "for i in range(1,11):\n",
        "  print(n,'x',i,'=',n*i)"
      ],
      "metadata": {
        "colab": {
          "base_uri": "https://localhost:8080/"
        },
        "id": "p-abF46VlYJF",
        "outputId": "2c324604-aa19-49df-fc05-31d7205391bc"
      },
      "execution_count": null,
      "outputs": [
        {
          "output_type": "stream",
          "name": "stdout",
          "text": [
            "Enter a required number table:5\n",
            "5 x 1 = 5\n",
            "5 x 2 = 10\n",
            "5 x 3 = 15\n",
            "5 x 4 = 20\n",
            "5 x 5 = 25\n",
            "5 x 6 = 30\n",
            "5 x 7 = 35\n",
            "5 x 8 = 40\n",
            "5 x 9 = 45\n",
            "5 x 10 = 50\n"
          ]
        }
      ]
    },
    {
      "cell_type": "code",
      "source": [
        "# 18.Python Program to Print the Fibonacci sequence\n",
        "n=int(input(\"Enter a number\"))\n",
        "n1,n2=0,1\n",
        "count=0\n",
        "if n<=0:\n",
        "  print(\"Enter Positive integer\")\n",
        "elif n==1:\n",
        "  print(\"Fibonocci upto \",n)\n",
        "  print(n1)\n",
        "else:\n",
        "  print(\"fibonocci sequence\")\n",
        "  while count<n:\n",
        "    print(n1)\n",
        "    nth=n1+n2\n",
        "    n1=n2\n",
        "    n2=nth\n",
        "    count+=1"
      ],
      "metadata": {
        "id": "q7kcaZthmb7k",
        "colab": {
          "base_uri": "https://localhost:8080/"
        },
        "outputId": "5250a157-9450-4172-c854-6f1582e82775"
      },
      "execution_count": null,
      "outputs": [
        {
          "output_type": "stream",
          "name": "stdout",
          "text": [
            "Enter a number6\n",
            "fibonocci sequence\n",
            "0\n",
            "1\n",
            "1\n",
            "2\n",
            "3\n",
            "5\n"
          ]
        }
      ]
    },
    {
      "cell_type": "code",
      "source": [
        ""
      ],
      "metadata": {
        "id": "7Ls8nUguROd1"
      },
      "execution_count": null,
      "outputs": []
    }
  ]
}