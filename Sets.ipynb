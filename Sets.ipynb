{
  "nbformat": 4,
  "nbformat_minor": 0,
  "metadata": {
    "colab": {
      "name": "Sets.ipynb",
      "provenance": [],
      "collapsed_sections": [],
      "authorship_tag": "ABX9TyPfM1JX9hAqB1LDCImaaNtC",
      "include_colab_link": true
    },
    "kernelspec": {
      "name": "python3",
      "display_name": "Python 3"
    },
    "language_info": {
      "name": "python"
    }
  },
  "cells": [
    {
      "cell_type": "markdown",
      "metadata": {
        "id": "view-in-github",
        "colab_type": "text"
      },
      "source": [
        "<a href=\"https://colab.research.google.com/github/ILikhitha/Python-New/blob/module-2/Sets.ipynb\" target=\"_parent\"><img src=\"https://colab.research.google.com/assets/colab-badge.svg\" alt=\"Open In Colab\"/></a>"
      ]
    },
    {
      "cell_type": "markdown",
      "source": [
        "## Sets"
      ],
      "metadata": {
        "id": "LK7xubkn3IU9"
      }
    },
    {
      "cell_type": "code",
      "execution_count": null,
      "metadata": {
        "colab": {
          "base_uri": "https://localhost:8080/"
        },
        "id": "wMy1x2lE-XaM",
        "outputId": "d30d2ad8-f421-4336-9489-9264f6d33f72"
      },
      "outputs": [
        {
          "output_type": "stream",
          "name": "stdout",
          "text": [
            "{'Mango', 'Kiwi', 'Litchi', 'Apple'}\n"
          ]
        }
      ],
      "source": [
        "Fruits={'Apple','Mango','Litchi','Kiwi'}\n",
        "print(Fruits)"
      ]
    },
    {
      "cell_type": "code",
      "source": [
        "Fruits={'Apple','Mango','Litchi','Kiwi'}\n",
        "print(Fruits)\n",
        "print(len(Fruits))"
      ],
      "metadata": {
        "colab": {
          "base_uri": "https://localhost:8080/"
        },
        "id": "XcGERiWQBAGe",
        "outputId": "ec7570a1-c0bd-46fd-e0a5-284b0dabdcdc"
      },
      "execution_count": null,
      "outputs": [
        {
          "output_type": "stream",
          "name": "stdout",
          "text": [
            "{'Mango', 'Kiwi', 'Litchi', 'Apple'}\n",
            "4\n"
          ]
        }
      ]
    },
    {
      "cell_type": "code",
      "source": [
        "Fruits={'Apple','Mango','Litchi','Kiwi','Mango'}\n",
        "print(Fruits)"
      ],
      "metadata": {
        "colab": {
          "base_uri": "https://localhost:8080/"
        },
        "id": "0jKJGoXhBVVu",
        "outputId": "fe187b96-d049-4c3f-b6b6-f3fe0d9934d1"
      },
      "execution_count": null,
      "outputs": [
        {
          "output_type": "stream",
          "name": "stdout",
          "text": [
            "{'Mango', 'Kiwi', 'Litchi', 'Apple'}\n"
          ]
        }
      ]
    },
    {
      "cell_type": "code",
      "source": [
        "a={'Dragon fruit','Cherry','Water melon'}\n",
        "b={1,2,3,4,5}\n",
        "c={True,True,True}\n",
        "print(a)\n",
        "print(b)\n",
        "print(c)"
      ],
      "metadata": {
        "colab": {
          "base_uri": "https://localhost:8080/"
        },
        "id": "myHlMLC1Bxg-",
        "outputId": "6345f3df-fbd0-4da7-f7c6-c850860f9b42"
      },
      "execution_count": null,
      "outputs": [
        {
          "output_type": "stream",
          "name": "stdout",
          "text": [
            "{'Dragon fruit', 'Cherry', 'Water melon'}\n",
            "{1, 2, 3, 4, 5}\n",
            "{True}\n"
          ]
        }
      ]
    },
    {
      "cell_type": "code",
      "source": [
        "a={'Apple',5,True,100,500,'abc'}\n",
        "print(a)"
      ],
      "metadata": {
        "colab": {
          "base_uri": "https://localhost:8080/"
        },
        "id": "GL3S4zQHChIS",
        "outputId": "1369ca4a-8a55-4523-dfca-3f8f0514b1ea"
      },
      "execution_count": null,
      "outputs": [
        {
          "output_type": "stream",
          "name": "stdout",
          "text": [
            "{True, 100, 5, 'abc', 500, 'Apple'}\n"
          ]
        }
      ]
    },
    {
      "cell_type": "code",
      "source": [
        "Fruits={'Apple','Mango','Litchi','Kiwi','Mango'}\n",
        "print(type(Fruits))"
      ],
      "metadata": {
        "colab": {
          "base_uri": "https://localhost:8080/"
        },
        "id": "CdYT3lw7Cw6l",
        "outputId": "45ca4e25-0813-4e74-e00b-44a05aaa2aba"
      },
      "execution_count": null,
      "outputs": [
        {
          "output_type": "stream",
          "name": "stdout",
          "text": [
            "<class 'set'>\n"
          ]
        }
      ]
    },
    {
      "cell_type": "code",
      "source": [
        "Fruits=set(('Apple','Mango','Litchi','Kiwi'))\n",
        "print(Fruits)"
      ],
      "metadata": {
        "colab": {
          "base_uri": "https://localhost:8080/"
        },
        "id": "M4xBgowiC5zV",
        "outputId": "6fc88993-9d22-4cec-b574-8e0e8c6b8286"
      },
      "execution_count": null,
      "outputs": [
        {
          "output_type": "stream",
          "name": "stdout",
          "text": [
            "{'Mango', 'Kiwi', 'Litchi', 'Apple'}\n"
          ]
        }
      ]
    },
    {
      "cell_type": "markdown",
      "source": [
        "## Access set items"
      ],
      "metadata": {
        "id": "LR_sQr7g3QVt"
      }
    },
    {
      "cell_type": "code",
      "source": [
        "Fruits={'Apple','Mango','Litchi','Kiwi'}\n",
        "for i in Fruits:\n",
        "  print(i)"
      ],
      "metadata": {
        "colab": {
          "base_uri": "https://localhost:8080/"
        },
        "id": "5Dr6E5BS3UJI",
        "outputId": "d0df6349-aba4-4166-86c2-77c18ed2ec72"
      },
      "execution_count": null,
      "outputs": [
        {
          "output_type": "stream",
          "name": "stdout",
          "text": [
            "Kiwi\n",
            "Litchi\n",
            "Mango\n",
            "Apple\n"
          ]
        }
      ]
    },
    {
      "cell_type": "code",
      "source": [
        "Fruits={'Apple','Mango','Litchi','Kiwi'}\n",
        "print(\"Litchi\" in Fruits)"
      ],
      "metadata": {
        "colab": {
          "base_uri": "https://localhost:8080/"
        },
        "id": "lQybbN5-3mH1",
        "outputId": "11d01dd6-e1b5-48b4-c1cb-7c666b5a4b21"
      },
      "execution_count": null,
      "outputs": [
        {
          "output_type": "stream",
          "name": "stdout",
          "text": [
            "True\n"
          ]
        }
      ]
    },
    {
      "cell_type": "markdown",
      "source": [
        "## Add set items"
      ],
      "metadata": {
        "id": "Uf-i5EAA3xMY"
      }
    },
    {
      "cell_type": "code",
      "source": [
        "Fruits={'Apple','Mango','Litchi','Kiwi'}\n",
        "Fruits.add(\"Orange\")\n",
        "print(Fruits)"
      ],
      "metadata": {
        "colab": {
          "base_uri": "https://localhost:8080/"
        },
        "id": "u1KUQmjd31nD",
        "outputId": "4a7dd4db-9d35-4816-c1a9-ed8c8fd3d98d"
      },
      "execution_count": null,
      "outputs": [
        {
          "output_type": "stream",
          "name": "stdout",
          "text": [
            "{'Orange', 'Kiwi', 'Mango', 'Litchi', 'Apple'}\n"
          ]
        }
      ]
    },
    {
      "cell_type": "code",
      "source": [
        "Fruits={'Apple','Mango','Litchi','Kiwi'}\n",
        "FruitsNew={'Dragon fruit','Water melon','Pine apple'}\n",
        "Fruits.update(FruitsNew)\n",
        "print(Fruits)"
      ],
      "metadata": {
        "colab": {
          "base_uri": "https://localhost:8080/"
        },
        "id": "OZTnB71f4IGN",
        "outputId": "f8a7f0a4-d781-4758-dd3b-a98aa792feab"
      },
      "execution_count": null,
      "outputs": [
        {
          "output_type": "stream",
          "name": "stdout",
          "text": [
            "{'Pine apple', 'Kiwi', 'Mango', 'Water melon', 'Litchi', 'Dragon fruit', 'Apple'}\n"
          ]
        }
      ]
    },
    {
      "cell_type": "code",
      "source": [
        "Fruits={'Apple','Mango','Litchi','Kiwi'}\n",
        "FruitsNew=['Dragon fruit','Water melon','Pine apple']\n",
        "Fruits.update(FruitsNew)\n",
        "print(Fruits)"
      ],
      "metadata": {
        "colab": {
          "base_uri": "https://localhost:8080/"
        },
        "id": "x3uFgo815BSz",
        "outputId": "4206486c-4ca9-418a-a51a-bc10ea380211"
      },
      "execution_count": null,
      "outputs": [
        {
          "output_type": "stream",
          "name": "stdout",
          "text": [
            "{'Kiwi', 'Mango', 'Water melon', 'Litchi', 'Pine apple', 'Dragon fruit', 'Apple'}\n"
          ]
        }
      ]
    },
    {
      "cell_type": "markdown",
      "source": [
        "## Remove set items "
      ],
      "metadata": {
        "id": "Zq2S_EV05Lme"
      }
    },
    {
      "cell_type": "code",
      "source": [
        "# remove()\n",
        "Fruits={'Apple','Mango','Litchi','Kiwi'}\n",
        "Fruits.remove('Apple')\n",
        "print(Fruits)"
      ],
      "metadata": {
        "colab": {
          "base_uri": "https://localhost:8080/"
        },
        "id": "BHArmCMo5Ywo",
        "outputId": "11d7041f-fde5-4ce5-e656-2a6b17744abf"
      },
      "execution_count": null,
      "outputs": [
        {
          "output_type": "stream",
          "name": "stdout",
          "text": [
            "{'Kiwi', 'Litchi', 'Mango'}\n"
          ]
        }
      ]
    },
    {
      "cell_type": "code",
      "source": [
        "# discard()\n",
        "Fruits={'Apple','Mango','Litchi','Kiwi'}\n",
        "Fruits.discard('Apple')\n",
        "print(Fruits)"
      ],
      "metadata": {
        "colab": {
          "base_uri": "https://localhost:8080/"
        },
        "id": "ZQdt0MV65nLs",
        "outputId": "1b99592a-60ab-4cf5-f670-e02e6a897e33"
      },
      "execution_count": null,
      "outputs": [
        {
          "output_type": "stream",
          "name": "stdout",
          "text": [
            "{'Kiwi', 'Litchi', 'Mango'}\n"
          ]
        }
      ]
    },
    {
      "cell_type": "code",
      "source": [
        "# pop()\n",
        "Fruits={'Apple','Mango','Litchi','Kiwi'}\n",
        "i=Fruits.pop()\n",
        "print(i)\n",
        "print(Fruits)"
      ],
      "metadata": {
        "colab": {
          "base_uri": "https://localhost:8080/"
        },
        "id": "mydlOIYs5wi4",
        "outputId": "35b07dd7-9f18-4e08-bd4d-f21e0bfe33bd"
      },
      "execution_count": null,
      "outputs": [
        {
          "output_type": "stream",
          "name": "stdout",
          "text": [
            "Kiwi\n",
            "{'Litchi', 'Mango', 'Apple'}\n"
          ]
        }
      ]
    },
    {
      "cell_type": "code",
      "source": [
        "# clear()\n",
        "Fruits={'Apple','Mango','Litchi','Kiwi'}\n",
        "Fruits.clear()\n",
        "print(Fruits)"
      ],
      "metadata": {
        "colab": {
          "base_uri": "https://localhost:8080/"
        },
        "id": "FybWUtew5wr3",
        "outputId": "f65a36b9-0436-4308-d947-56c375fb2d87"
      },
      "execution_count": null,
      "outputs": [
        {
          "output_type": "stream",
          "name": "stdout",
          "text": [
            "set()\n"
          ]
        }
      ]
    },
    {
      "cell_type": "code",
      "source": [
        "# del\n",
        "Fruits={'Apple','Mango','Litchi','Kiwi'}\n",
        "del Fruits\n",
        "print(Fruits)\n",
        "# As set no longer exists,it give an error"
      ],
      "metadata": {
        "id": "1ehZTCpk67c7"
      },
      "execution_count": null,
      "outputs": []
    },
    {
      "cell_type": "markdown",
      "source": [
        "## Loop sets"
      ],
      "metadata": {
        "id": "L_JgXgnC6_pw"
      }
    },
    {
      "cell_type": "code",
      "source": [
        "# for loop\n",
        "Fruits={'Apple','Mango','Litchi','Kiwi'}\n",
        "for i in Fruits:\n",
        "  print(i)"
      ],
      "metadata": {
        "colab": {
          "base_uri": "https://localhost:8080/"
        },
        "id": "kO4FE6oQ7CC5",
        "outputId": "f9f9017b-b975-42fe-9930-96ac36b68e73"
      },
      "execution_count": null,
      "outputs": [
        {
          "output_type": "stream",
          "name": "stdout",
          "text": [
            "Kiwi\n",
            "Litchi\n",
            "Mango\n",
            "Apple\n"
          ]
        }
      ]
    },
    {
      "cell_type": "markdown",
      "source": [
        "## Join sets"
      ],
      "metadata": {
        "id": "D9uFx8cH7Sh_"
      }
    },
    {
      "cell_type": "code",
      "source": [
        "# union()\n",
        "a={'a','b','c','d'}\n",
        "b={1,2,3,4}\n",
        "c=a.union(b)\n",
        "print(c)"
      ],
      "metadata": {
        "colab": {
          "base_uri": "https://localhost:8080/"
        },
        "id": "wgyNeI0J7UH5",
        "outputId": "dbbf8a04-e7de-49e1-c9c2-a5efe3e5a696"
      },
      "execution_count": null,
      "outputs": [
        {
          "output_type": "stream",
          "name": "stdout",
          "text": [
            "{1, 2, 3, 'a', 4, 'd', 'b', 'c'}\n"
          ]
        }
      ]
    },
    {
      "cell_type": "code",
      "source": [
        "# update()\n",
        "a={'a','b','c','d'}\n",
        "b={1,2,3,4}\n",
        "a.update(b)\n",
        "print(a)"
      ],
      "metadata": {
        "colab": {
          "base_uri": "https://localhost:8080/"
        },
        "id": "WKUiwfqx7mOA",
        "outputId": "77e78604-fa56-4d2e-cc8e-fa2cc09d8b2a"
      },
      "execution_count": null,
      "outputs": [
        {
          "output_type": "stream",
          "name": "stdout",
          "text": [
            "{1, 2, 3, 'a', 4, 'd', 'b', 'c'}\n"
          ]
        }
      ]
    },
    {
      "cell_type": "code",
      "source": [
        "# intersection_update()\n",
        "a={'Movie','Game','Piano'}\n",
        "b={'Badminton','Piano','Shooting'}\n",
        "a.intersection_update(b)\n",
        "print(a)"
      ],
      "metadata": {
        "colab": {
          "base_uri": "https://localhost:8080/"
        },
        "id": "8Fsu43jb74tM",
        "outputId": "153a7a9d-d569-4af4-b502-cce11a2ea0a4"
      },
      "execution_count": null,
      "outputs": [
        {
          "output_type": "stream",
          "name": "stdout",
          "text": [
            "{'Piano'}\n"
          ]
        }
      ]
    },
    {
      "cell_type": "code",
      "source": [
        "# intersection()\n",
        "a={'Movie','Game','Piano'}\n",
        "b={'Badminton','Piano','Shooting'}\n",
        "c=a.intersection(b)\n",
        "print(c)"
      ],
      "metadata": {
        "colab": {
          "base_uri": "https://localhost:8080/"
        },
        "id": "-AlE9U-q74vO",
        "outputId": "20adc8f0-21bb-4fef-95aa-b0dbdbf75235"
      },
      "execution_count": null,
      "outputs": [
        {
          "output_type": "stream",
          "name": "stdout",
          "text": [
            "{'Piano'}\n"
          ]
        }
      ]
    },
    {
      "cell_type": "code",
      "source": [
        "# symmetric_difference_update()\n",
        "a={'Movie','Game','Piano'}\n",
        "b={'Badminton','Piano','Shooting'}\n",
        "a.symmetric_difference_update(b)\n",
        "print(a)"
      ],
      "metadata": {
        "colab": {
          "base_uri": "https://localhost:8080/"
        },
        "id": "-WVHjLnM74xf",
        "outputId": "80c7c168-da9e-45e8-dc97-1e95ae33097c"
      },
      "execution_count": null,
      "outputs": [
        {
          "output_type": "stream",
          "name": "stdout",
          "text": [
            "{'Game', 'Shooting', 'Movie', 'Badminton'}\n"
          ]
        }
      ]
    },
    {
      "cell_type": "code",
      "source": [
        "# symmetric_difference()\n",
        "a={'Movie','Game','Piano'}\n",
        "b={'Badminton','Piano','Shooting'}\n",
        "c=a.symmetric_difference(b)\n",
        "print(c)"
      ],
      "metadata": {
        "colab": {
          "base_uri": "https://localhost:8080/"
        },
        "id": "xW_DxFZp740l",
        "outputId": "bc33ede0-c164-474d-cfb8-d52db863b960"
      },
      "execution_count": null,
      "outputs": [
        {
          "output_type": "stream",
          "name": "stdout",
          "text": [
            "{'Game', 'Shooting', 'Movie', 'Badminton'}\n"
          ]
        }
      ]
    },
    {
      "cell_type": "markdown",
      "source": [
        "## Set methods"
      ],
      "metadata": {
        "id": "N5Xfxx9A9tF6"
      }
    },
    {
      "cell_type": "code",
      "source": [
        "# add(): Adds an element to the set\n",
        "Fruits={'Apple','Mango','Litchi','Kiwi'}\n",
        "Fruits.add(\"Dragon fruit\")\n",
        "print(Fruits)"
      ],
      "metadata": {
        "colab": {
          "base_uri": "https://localhost:8080/"
        },
        "id": "vLSwuFWJ9w3r",
        "outputId": "e50da19d-323c-49d1-c2b9-c476b634f630"
      },
      "execution_count": null,
      "outputs": [
        {
          "output_type": "stream",
          "name": "stdout",
          "text": [
            "{'Kiwi', 'Mango', 'Litchi', 'Dragon fruit', 'Apple'}\n"
          ]
        }
      ]
    },
    {
      "cell_type": "code",
      "source": [
        "Fruits={'Apple','Mango','Litchi','Kiwi'}\n",
        "Fruits.add(\"Apple\")\n",
        "print(Fruits)"
      ],
      "metadata": {
        "colab": {
          "base_uri": "https://localhost:8080/"
        },
        "id": "4IR1h558_mxm",
        "outputId": "79a680db-1e80-4743-8313-12d19484e50c"
      },
      "execution_count": null,
      "outputs": [
        {
          "output_type": "stream",
          "name": "stdout",
          "text": [
            "{'Kiwi', 'Litchi', 'Mango', 'Apple'}\n"
          ]
        }
      ]
    },
    {
      "cell_type": "code",
      "source": [
        "# clear():\tRemoves all the elements from the set\n",
        "Fruits={'Apple','Mango','Litchi','Kiwi'}\n",
        "Fruits.clear()\n",
        "print(Fruits)"
      ],
      "metadata": {
        "colab": {
          "base_uri": "https://localhost:8080/"
        },
        "id": "O0bPnieY_mzV",
        "outputId": "b8f9b35b-c4fc-4e17-b895-601ad73b967c"
      },
      "execution_count": null,
      "outputs": [
        {
          "output_type": "stream",
          "name": "stdout",
          "text": [
            "set()\n"
          ]
        }
      ]
    },
    {
      "cell_type": "code",
      "source": [
        "# copy():\tReturns a copy of the set\n",
        "Fruits={'Apple','Mango','Litchi','Kiwi'}\n",
        "i=Fruits.copy()\n",
        "print(i)"
      ],
      "metadata": {
        "colab": {
          "base_uri": "https://localhost:8080/"
        },
        "id": "vpaDm8fs_m10",
        "outputId": "fb6f3b28-a915-4d4a-fd28-18aa29253e56"
      },
      "execution_count": null,
      "outputs": [
        {
          "output_type": "stream",
          "name": "stdout",
          "text": [
            "{'Kiwi', 'Litchi', 'Mango', 'Apple'}\n"
          ]
        }
      ]
    },
    {
      "cell_type": "code",
      "source": [
        "# difference(): Returns a set containing the difference between two or more \n",
        "a={'Movie','Game','Piano'}\n",
        "b={'Badminton','Piano','Shooting'}\n",
        "c=a.difference(b)\n",
        "print(c)"
      ],
      "metadata": {
        "colab": {
          "base_uri": "https://localhost:8080/"
        },
        "id": "YTO0gpUk_m4I",
        "outputId": "f4d03a9e-59a7-414d-aa4d-e613da021bef"
      },
      "execution_count": null,
      "outputs": [
        {
          "output_type": "stream",
          "name": "stdout",
          "text": [
            "{'Game', 'Movie'}\n"
          ]
        }
      ]
    },
    {
      "cell_type": "code",
      "source": [
        "a={'Movie','Game','Piano'}\n",
        "b={'Badminton','Piano','Shooting'}\n",
        "c=b.difference(a)\n",
        "print(c)"
      ],
      "metadata": {
        "colab": {
          "base_uri": "https://localhost:8080/"
        },
        "id": "Bt9WC-oU_m6T",
        "outputId": "cc0c84ad-ef1c-4747-b8ca-fff4ed4ffcbb"
      },
      "execution_count": null,
      "outputs": [
        {
          "output_type": "stream",
          "name": "stdout",
          "text": [
            "{'Badminton', 'Shooting'}\n"
          ]
        }
      ]
    },
    {
      "cell_type": "code",
      "source": [
        "# difference_update():\tRemoves the items in this set that are also included in another, specified set\n",
        "a={'Movie','Game','Piano'}\n",
        "b={'Badminton','Piano','Shooting'}\n",
        "a.difference_update(b)\n",
        "print(a)"
      ],
      "metadata": {
        "colab": {
          "base_uri": "https://localhost:8080/"
        },
        "id": "12d5dDRR_m88",
        "outputId": "9501125c-93a3-4018-c4b0-0ea2641a31c1"
      },
      "execution_count": null,
      "outputs": [
        {
          "output_type": "stream",
          "name": "stdout",
          "text": [
            "{'Game', 'Movie'}\n"
          ]
        }
      ]
    },
    {
      "cell_type": "code",
      "source": [
        "# discard():\tRemove the specified item\n",
        "Fruits={'Apple','Mango','Litchi','Kiwi'}\n",
        "Fruits.discard('Apple')\n",
        "print(Fruits)"
      ],
      "metadata": {
        "colab": {
          "base_uri": "https://localhost:8080/"
        },
        "id": "x1Oyyaus_m_W",
        "outputId": "ecbeeb2f-58b8-4ade-e8d3-2e6f82af5100"
      },
      "execution_count": null,
      "outputs": [
        {
          "output_type": "stream",
          "name": "stdout",
          "text": [
            "{'Kiwi', 'Litchi', 'Mango'}\n"
          ]
        }
      ]
    },
    {
      "cell_type": "code",
      "source": [
        "# intersection():\tReturns a set, that is the intersection of two or more sets\n",
        "a={'Movie','Game','Piano'}\n",
        "b={'Badminton','Piano','Shooting'}\n",
        "c=a.intersection(b)\n",
        "print(c)"
      ],
      "metadata": {
        "colab": {
          "base_uri": "https://localhost:8080/"
        },
        "id": "_SFD6pn6_nB_",
        "outputId": "a35cf810-8f37-4abe-be4a-3bef5ae95419"
      },
      "execution_count": null,
      "outputs": [
        {
          "output_type": "stream",
          "name": "stdout",
          "text": [
            "{'Piano'}\n"
          ]
        }
      ]
    },
    {
      "cell_type": "code",
      "source": [
        "A={'a','b','c'}\n",
        "B={'d','e','a'}\n",
        "C={'a','f','g'}\n",
        "result=A.intersection(B,C)\n",
        "print(result)"
      ],
      "metadata": {
        "colab": {
          "base_uri": "https://localhost:8080/"
        },
        "id": "ve093dsz_nIz",
        "outputId": "181963e2-ef01-4996-eb10-c06c2c7b3ac2"
      },
      "execution_count": null,
      "outputs": [
        {
          "output_type": "stream",
          "name": "stdout",
          "text": [
            "{'a'}\n"
          ]
        }
      ]
    },
    {
      "cell_type": "code",
      "source": [
        "# intersection_update()\tRemoves the items in this set that are not present in other, specified set(s) \n",
        "a={'Movie','Game','Piano'}\n",
        "b={'Badminton','Piano','Shooting'}\n",
        "a.intersection_update(b)\n",
        "print(a)"
      ],
      "metadata": {
        "colab": {
          "base_uri": "https://localhost:8080/"
        },
        "id": "ka4pf2yy_nKl",
        "outputId": "79abc964-ff3b-4c1d-e2aa-bc9a667111c2"
      },
      "execution_count": null,
      "outputs": [
        {
          "output_type": "stream",
          "name": "stdout",
          "text": [
            "{'Piano'}\n"
          ]
        }
      ]
    },
    {
      "cell_type": "code",
      "source": [
        "A={'a','b','c'}\n",
        "B={'d','e','a'}\n",
        "C={'a','f','g'}\n",
        "A.intersection_update(B,C)\n",
        "print(A)"
      ],
      "metadata": {
        "colab": {
          "base_uri": "https://localhost:8080/"
        },
        "id": "twP4r_f8_nL6",
        "outputId": "7e81b560-d28c-45f4-af4f-ef4fd09162f7"
      },
      "execution_count": null,
      "outputs": [
        {
          "output_type": "stream",
          "name": "stdout",
          "text": [
            "{'a'}\n"
          ]
        }
      ]
    },
    {
      "cell_type": "code",
      "source": [
        "# isdisjoint():\tReturns whether two sets have a intersection or not\n",
        "a={'Movie','Game','Piano'}\n",
        "b={'Badminton','Piano','Shooting'}\n",
        "c=a.isdisjoint(b)\n",
        "print(c)"
      ],
      "metadata": {
        "colab": {
          "base_uri": "https://localhost:8080/"
        },
        "id": "j7B_VEJWMg8g",
        "outputId": "ffdf7c9b-7af2-4d1a-8ce0-4d6ac5778d9b"
      },
      "execution_count": null,
      "outputs": [
        {
          "output_type": "stream",
          "name": "stdout",
          "text": [
            "False\n"
          ]
        }
      ]
    },
    {
      "cell_type": "code",
      "source": [
        "a={'Movie','Game','Piano'}\n",
        "b={'Badminton','Tennis','Shooting'}\n",
        "c=a.isdisjoint(b)\n",
        "print(c)"
      ],
      "metadata": {
        "colab": {
          "base_uri": "https://localhost:8080/"
        },
        "id": "dnWQA4T1VRsC",
        "outputId": "ec61f5e2-26ad-41a9-f2b0-7ffcda603b50"
      },
      "execution_count": null,
      "outputs": [
        {
          "output_type": "stream",
          "name": "stdout",
          "text": [
            "True\n"
          ]
        }
      ]
    },
    {
      "cell_type": "code",
      "source": [
        "# issubset()\tReturns whether another set contains this set or not\n",
        "A = {\"a\", \"b\", \"c\"}\n",
        "B = {\"f\", \"e\", \"d\", \"c\", \"b\", \"a\"}\n",
        "C=A.issubset(B)\n",
        "print(c)"
      ],
      "metadata": {
        "colab": {
          "base_uri": "https://localhost:8080/"
        },
        "id": "X0A9fhc3Vdvk",
        "outputId": "7e292fb5-04e0-434a-aff1-eb86890dc12c"
      },
      "execution_count": null,
      "outputs": [
        {
          "output_type": "stream",
          "name": "stdout",
          "text": [
            "True\n"
          ]
        }
      ]
    },
    {
      "cell_type": "code",
      "source": [
        "A = {\"a\", \"b\", \"c\"}\n",
        "B = {\"f\", \"e\", \"d\", \"c\", \"a\"}\n",
        "C=A.issubset(B)\n",
        "print(C)"
      ],
      "metadata": {
        "colab": {
          "base_uri": "https://localhost:8080/"
        },
        "id": "mYSj7d19W1Bn",
        "outputId": "621b94df-88ee-425a-8231-4230f1a3991b"
      },
      "execution_count": null,
      "outputs": [
        {
          "output_type": "stream",
          "name": "stdout",
          "text": [
            "False\n"
          ]
        }
      ]
    },
    {
      "cell_type": "code",
      "source": [
        "# issuperset()\tReturns whether this set contains another set or not\n",
        "A = {\"f\", \"e\", \"d\", \"c\", \"b\", \"a\"}\n",
        "B = {\"a\", \"b\", \"c\"}\n",
        "C=A.issuperset(B)\n",
        "print(C)"
      ],
      "metadata": {
        "colab": {
          "base_uri": "https://localhost:8080/"
        },
        "id": "DYhSrFxaXSrh",
        "outputId": "6ea07302-6860-4ac2-f174-0b27f736f996"
      },
      "execution_count": null,
      "outputs": [
        {
          "output_type": "stream",
          "name": "stdout",
          "text": [
            "True\n"
          ]
        }
      ]
    },
    {
      "cell_type": "code",
      "source": [
        "A = {\"f\", \"e\", \"d\", \"c\", \"b\"}\n",
        "B = {\"a\", \"b\", \"c\"}\n",
        "C=A.issuperset(B)\n",
        "print(C)"
      ],
      "metadata": {
        "colab": {
          "base_uri": "https://localhost:8080/"
        },
        "id": "66cR4AlfXvbY",
        "outputId": "4950e5f4-5c8c-4ed4-bc4b-02457de43dd6"
      },
      "execution_count": null,
      "outputs": [
        {
          "output_type": "stream",
          "name": "stdout",
          "text": [
            "False\n"
          ]
        }
      ]
    },
    {
      "cell_type": "code",
      "source": [
        "# pop():\tRemoves an element from the set\n",
        "Fruits={'Apple','Mango','Litchi','Kiwi'}\n",
        "Fruits.pop()\n",
        "print(Fruits)"
      ],
      "metadata": {
        "colab": {
          "base_uri": "https://localhost:8080/"
        },
        "id": "7cFyEqTSX2RG",
        "outputId": "532ed871-7677-48fd-dd3d-1df0727c55a1"
      },
      "execution_count": null,
      "outputs": [
        {
          "output_type": "stream",
          "name": "stdout",
          "text": [
            "{'Litchi', 'Mango', 'Apple'}\n"
          ]
        }
      ]
    },
    {
      "cell_type": "code",
      "source": [
        "Fruits={'Apple','Mango','Litchi','Kiwi'}\n",
        "i=Fruits.pop()\n",
        "print(i)"
      ],
      "metadata": {
        "colab": {
          "base_uri": "https://localhost:8080/"
        },
        "id": "Mc8m4c-ZYQ1x",
        "outputId": "9f8a9770-737c-43e3-cc61-efd8077f2408"
      },
      "execution_count": null,
      "outputs": [
        {
          "output_type": "stream",
          "name": "stdout",
          "text": [
            "Kiwi\n"
          ]
        }
      ]
    },
    {
      "cell_type": "code",
      "source": [
        "# remove():\tRemoves the specified element\n",
        "Fruits={'Apple','Mango','Litchi','Kiwi'}\n",
        "Fruits.remove(\"Apple\")\n",
        "print(Fruits)"
      ],
      "metadata": {
        "colab": {
          "base_uri": "https://localhost:8080/"
        },
        "id": "SYYYiCZ_YluO",
        "outputId": "b42f5a74-4726-4a9a-fe72-fa799579e56d"
      },
      "execution_count": null,
      "outputs": [
        {
          "output_type": "stream",
          "name": "stdout",
          "text": [
            "{'Kiwi', 'Litchi', 'Mango'}\n"
          ]
        }
      ]
    },
    {
      "cell_type": "code",
      "source": [
        "# symmetric_difference():\tReturns a set with the symmetric differences of two sets\n",
        "a={'Movie','Game','Piano'}\n",
        "b={'Badminton','Piano','Shooting'}\n",
        "c=a.symmetric_difference(b)\n",
        "print(c)"
      ],
      "metadata": {
        "colab": {
          "base_uri": "https://localhost:8080/"
        },
        "id": "QWty2KoPYRH7",
        "outputId": "0fcc995d-94c2-4694-ed97-7f1624715895"
      },
      "execution_count": null,
      "outputs": [
        {
          "output_type": "stream",
          "name": "stdout",
          "text": [
            "{'Game', 'Shooting', 'Movie', 'Badminton'}\n"
          ]
        }
      ]
    },
    {
      "cell_type": "code",
      "source": [
        "# symmetric_difference_update()\tinserts the symmetric differences from this set and another\n",
        "a={'Movie','Game','Piano'}\n",
        "b={'Badminton','Piano','Shooting'}\n",
        "a.symmetric_difference_update(b)\n",
        "print(a)"
      ],
      "metadata": {
        "colab": {
          "base_uri": "https://localhost:8080/"
        },
        "id": "T5k2J_u3aDqF",
        "outputId": "d4b39ec4-074a-412f-abfb-5db8f6ec52e1"
      },
      "execution_count": null,
      "outputs": [
        {
          "output_type": "stream",
          "name": "stdout",
          "text": [
            "{'Game', 'Shooting', 'Movie', 'Badminton'}\n"
          ]
        }
      ]
    },
    {
      "cell_type": "code",
      "source": [
        "# union()\tReturn a set containing the union of sets\n",
        "a={'Movie','Game','Piano'}\n",
        "b={'Badminton','Piano','Shooting'}\n",
        "c=a.union(b)\n",
        "print(c)"
      ],
      "metadata": {
        "colab": {
          "base_uri": "https://localhost:8080/"
        },
        "id": "uihLSOImaeNz",
        "outputId": "a81ded03-2fde-4d50-ce30-7c3db997e157"
      },
      "execution_count": null,
      "outputs": [
        {
          "output_type": "stream",
          "name": "stdout",
          "text": [
            "{'Game', 'Shooting', 'Badminton', 'Piano', 'Movie'}\n"
          ]
        }
      ]
    },
    {
      "cell_type": "code",
      "source": [
        "A = {\"a\", \"b\", \"c\"}\n",
        "B = {\"f\", \"d\", \"a\"}\n",
        "C = {\"c\", \"d\", \"e\"}\n",
        "result=A.union(B,C)\n",
        "print(result)"
      ],
      "metadata": {
        "colab": {
          "base_uri": "https://localhost:8080/"
        },
        "id": "O0mvgD8Yaeyj",
        "outputId": "61df3739-05d4-4cb0-9154-510e2cc13a8a"
      },
      "execution_count": null,
      "outputs": [
        {
          "output_type": "stream",
          "name": "stdout",
          "text": [
            "{'b', 'f', 'a', 'e', 'c', 'd'}\n"
          ]
        }
      ]
    },
    {
      "cell_type": "code",
      "source": [
        "# update()\tUpdate the set with another set, or any other iterable\n",
        "a={'Movie','Game','Piano'}\n",
        "b={'Badminton','Piano','Shooting'}\n",
        "a.update(b)\n",
        "print(a)"
      ],
      "metadata": {
        "colab": {
          "base_uri": "https://localhost:8080/"
        },
        "id": "ncezBGfTa-1K",
        "outputId": "7533ec74-53a3-45ff-eb39-a586ec284164"
      },
      "execution_count": null,
      "outputs": [
        {
          "output_type": "stream",
          "name": "stdout",
          "text": [
            "{'Game', 'Shooting', 'Badminton', 'Piano', 'Movie'}\n"
          ]
        }
      ]
    }
  ]
}