{
  "cells": [
    {
      "cell_type": "markdown",
      "metadata": {
        "id": "view-in-github",
        "colab_type": "text"
      },
      "source": [
        "<a href=\"https://colab.research.google.com/github/ILikhitha/Python-New/blob/module-1/VU21CSEN0101846_Python_programs.ipynb\" target=\"_parent\"><img src=\"https://colab.research.google.com/assets/colab-badge.svg\" alt=\"Open In Colab\"/></a>"
      ]
    },
    {
      "cell_type": "markdown",
      "id": "c9583584",
      "metadata": {
        "id": "c9583584"
      },
      "source": [
        "# Static average of three numbers"
      ]
    },
    {
      "cell_type": "code",
      "execution_count": null,
      "id": "fba67ec7",
      "metadata": {
        "id": "fba67ec7",
        "outputId": "021edddf-3563-4101-b13a-ec78c339f9f3"
      },
      "outputs": [
        {
          "name": "stdout",
          "output_type": "stream",
          "text": [
            "20.0\n",
            "<class 'float'>\n",
            "10\n",
            "<class 'int'>\n"
          ]
        }
      ],
      "source": [
        "a=10\n",
        "b=20\n",
        "c=30\n",
        "average=(a+b+c)/3\n",
        "print(average)\n",
        "print(type(average))\n",
        "print(a)\n",
        "print(type(a))"
      ]
    },
    {
      "cell_type": "markdown",
      "id": "2cf4661c",
      "metadata": {
        "id": "2cf4661c"
      },
      "source": [
        "# Static multiplication of three numbers"
      ]
    },
    {
      "cell_type": "code",
      "execution_count": null,
      "id": "50aa5a71",
      "metadata": {
        "id": "50aa5a71",
        "outputId": "21aefe00-a3ec-4cfc-f390-2db20185fa23"
      },
      "outputs": [
        {
          "name": "stdout",
          "output_type": "stream",
          "text": [
            "40\n",
            "<class 'int'>\n",
            "2\n",
            "<class 'int'>\n"
          ]
        }
      ],
      "source": [
        "a=2\n",
        "b=4\n",
        "c=5\n",
        "multiply=a*b*c\n",
        "print(multiply)\n",
        "print(type(multiply))\n",
        "print(a)\n",
        "print(type(a))"
      ]
    },
    {
      "cell_type": "markdown",
      "id": "514e5143",
      "metadata": {
        "id": "514e5143"
      },
      "source": [
        "# Dynamic addition of two numbers"
      ]
    },
    {
      "cell_type": "code",
      "execution_count": null,
      "id": "c140f163",
      "metadata": {
        "id": "c140f163",
        "outputId": "2234e795-0d15-4aef-abdc-82cb8321dd54"
      },
      "outputs": [
        {
          "name": "stdout",
          "output_type": "stream",
          "text": [
            "Enter a5\n",
            "Enter b10\n",
            "15\n",
            "<class 'int'>\n"
          ]
        }
      ],
      "source": [
        "a=int(input(\"Enter a\"))\n",
        "b=int(input(\"Enter b\"))\n",
        "c=a+b\n",
        "print(c)\n",
        "print(type(c))"
      ]
    },
    {
      "cell_type": "markdown",
      "id": "2f1a15d9",
      "metadata": {
        "id": "2f1a15d9"
      },
      "source": [
        "# Dynamic multiplication of two numbers"
      ]
    },
    {
      "cell_type": "code",
      "execution_count": null,
      "id": "62be2d10",
      "metadata": {
        "id": "62be2d10",
        "outputId": "62917868-ffc5-4e10-c35b-2b35973583bb"
      },
      "outputs": [
        {
          "name": "stdout",
          "output_type": "stream",
          "text": [
            "Enter a5\n",
            "Enter b10\n",
            "50\n",
            "<class 'int'>\n"
          ]
        }
      ],
      "source": [
        "a=int(input(\"Enter a\"))\n",
        "b=int(input(\"Enter b\"))\n",
        "c=a*b\n",
        "print(c)\n",
        "print(type(c))"
      ]
    },
    {
      "cell_type": "markdown",
      "id": "8e445fd2",
      "metadata": {
        "id": "8e445fd2"
      },
      "source": [
        "# Type Conversions"
      ]
    },
    {
      "cell_type": "markdown",
      "id": "7987eb87",
      "metadata": {
        "id": "7987eb87"
      },
      "source": [
        "## Convert int to float"
      ]
    },
    {
      "cell_type": "code",
      "execution_count": null,
      "id": "1853ecfe",
      "metadata": {
        "id": "1853ecfe",
        "outputId": "b0575ae5-b401-4fed-f74d-5242b9c8895c"
      },
      "outputs": [
        {
          "name": "stdout",
          "output_type": "stream",
          "text": [
            "10\n",
            "<class 'int'>\n",
            "10.0\n",
            "<class 'float'>\n"
          ]
        }
      ],
      "source": [
        "a=10\n",
        "print(a)\n",
        "print(type(a))\n",
        "b=float(a)\n",
        "print(b)\n",
        "print(type(b))"
      ]
    },
    {
      "cell_type": "markdown",
      "id": "042a46ff",
      "metadata": {
        "id": "042a46ff"
      },
      "source": [
        "## Convert float to int"
      ]
    },
    {
      "cell_type": "code",
      "execution_count": null,
      "id": "8b6dab73",
      "metadata": {
        "id": "8b6dab73",
        "outputId": "2c13489a-6453-4845-fd15-8e9ee3911fe1"
      },
      "outputs": [
        {
          "name": "stdout",
          "output_type": "stream",
          "text": [
            "5.5\n",
            "<class 'float'>\n",
            "5\n",
            "<class 'int'>\n"
          ]
        }
      ],
      "source": [
        "a=5.5\n",
        "print(a)\n",
        "print(type(a))\n",
        "b=int(a)\n",
        "print(b)\n",
        "print(type(b))"
      ]
    },
    {
      "cell_type": "markdown",
      "id": "33a8cc29",
      "metadata": {
        "id": "33a8cc29"
      },
      "source": [
        "## Convert int to string"
      ]
    },
    {
      "cell_type": "code",
      "execution_count": null,
      "id": "70c299b9",
      "metadata": {
        "id": "70c299b9",
        "outputId": "b79ed974-c472-4a5b-c7d2-8eee457ae833"
      },
      "outputs": [
        {
          "name": "stdout",
          "output_type": "stream",
          "text": [
            "10\n",
            "<class 'int'>\n",
            "10\n",
            "<class 'str'>\n"
          ]
        }
      ],
      "source": [
        "a=10\n",
        "print(a)\n",
        "print(type(a))\n",
        "b=str(a)\n",
        "print(b)\n",
        "print(type(b))"
      ]
    },
    {
      "cell_type": "markdown",
      "id": "a7da7687",
      "metadata": {
        "id": "a7da7687"
      },
      "source": [
        "## Convert float to string"
      ]
    },
    {
      "cell_type": "code",
      "execution_count": null,
      "id": "0abb4fe0",
      "metadata": {
        "id": "0abb4fe0",
        "outputId": "c1f5a653-ad12-4a7b-f23f-f8637977b0f1"
      },
      "outputs": [
        {
          "name": "stdout",
          "output_type": "stream",
          "text": [
            "5.5\n",
            "<class 'float'>\n",
            "5.5\n",
            "<class 'str'>\n"
          ]
        }
      ],
      "source": [
        "a=5.5\n",
        "print(a)\n",
        "print(type(a))\n",
        "b=str(a)\n",
        "print(b)\n",
        "print(type(b))"
      ]
    },
    {
      "cell_type": "markdown",
      "id": "2a6b7c19",
      "metadata": {
        "id": "2a6b7c19"
      },
      "source": [
        "## Convert string to int "
      ]
    },
    {
      "cell_type": "code",
      "execution_count": null,
      "id": "31d8c774",
      "metadata": {
        "id": "31d8c774",
        "outputId": "c92136e5-2c2d-43ec-b66a-ab588239c9c2"
      },
      "outputs": [
        {
          "name": "stdout",
          "output_type": "stream",
          "text": [
            "55\n",
            "<class 'str'>\n",
            "55\n",
            "<class 'int'>\n"
          ]
        }
      ],
      "source": [
        "a='55'\n",
        "print(a)\n",
        "print(type(a))\n",
        "b=int(a)\n",
        "print(b)\n",
        "print(type(b))"
      ]
    },
    {
      "cell_type": "markdown",
      "id": "741c972e",
      "metadata": {
        "id": "741c972e"
      },
      "source": [
        "## Convert string to float"
      ]
    },
    {
      "cell_type": "code",
      "execution_count": null,
      "id": "d14ac540",
      "metadata": {
        "id": "d14ac540",
        "outputId": "5c7535ac-0a21-41b8-a174-e88eb80ee0c4"
      },
      "outputs": [
        {
          "name": "stdout",
          "output_type": "stream",
          "text": [
            "5.5\n",
            "<class 'str'>\n",
            "5.5\n",
            "<class 'float'>\n"
          ]
        }
      ],
      "source": [
        "a='5.5'\n",
        "print(a)\n",
        "print(type(a))\n",
        "b=float(a)\n",
        "print(b)\n",
        "print(type(b))"
      ]
    },
    {
      "cell_type": "markdown",
      "id": "2d04e089",
      "metadata": {
        "id": "2d04e089"
      },
      "source": [
        "# Boolean datatype conversions"
      ]
    },
    {
      "cell_type": "markdown",
      "id": "d65df744",
      "metadata": {
        "id": "d65df744"
      },
      "source": [
        "## Convert int to boolean"
      ]
    },
    {
      "cell_type": "code",
      "execution_count": null,
      "id": "23f9bf10",
      "metadata": {
        "id": "23f9bf10",
        "outputId": "0845f145-d59f-4493-b2af-63560ff6e0e0"
      },
      "outputs": [
        {
          "name": "stdout",
          "output_type": "stream",
          "text": [
            "50\n",
            "<class 'int'>\n",
            "True\n",
            "<class 'bool'>\n"
          ]
        }
      ],
      "source": [
        "a=50\n",
        "print(a)\n",
        "print(type(a))\n",
        "b=bool(a)\n",
        "print(b)\n",
        "print(type(b))"
      ]
    },
    {
      "cell_type": "markdown",
      "id": "9195a391",
      "metadata": {
        "id": "9195a391"
      },
      "source": [
        "## Boolean conditions check"
      ]
    },
    {
      "cell_type": "code",
      "execution_count": null,
      "id": "7a3b83da",
      "metadata": {
        "id": "7a3b83da",
        "outputId": "3d97be25-f092-471a-abd7-e2a7f2b6f038"
      },
      "outputs": [
        {
          "name": "stdout",
          "output_type": "stream",
          "text": [
            "False\n"
          ]
        }
      ],
      "source": [
        "print(5==6)"
      ]
    },
    {
      "cell_type": "code",
      "execution_count": null,
      "id": "9404921e",
      "metadata": {
        "id": "9404921e",
        "outputId": "a18fbac8-ecf9-4a16-ac68-393cda4c058d"
      },
      "outputs": [
        {
          "name": "stdout",
          "output_type": "stream",
          "text": [
            "True\n"
          ]
        }
      ],
      "source": [
        "print(6>4)"
      ]
    },
    {
      "cell_type": "markdown",
      "id": "f54cb0b7",
      "metadata": {
        "id": "f54cb0b7"
      },
      "source": [
        "## Convert float to boolean"
      ]
    },
    {
      "cell_type": "code",
      "execution_count": null,
      "id": "56ef22ae",
      "metadata": {
        "id": "56ef22ae",
        "outputId": "d1fa07d0-10c7-48c8-f21d-e162a83bff0b"
      },
      "outputs": [
        {
          "name": "stdout",
          "output_type": "stream",
          "text": [
            "5.5\n",
            "<class 'float'>\n",
            "True\n",
            "<class 'bool'>\n"
          ]
        }
      ],
      "source": [
        "a=5.5\n",
        "print(a)\n",
        "print(type(a))\n",
        "b=bool(a)\n",
        "print(b)\n",
        "print(type(b))"
      ]
    },
    {
      "cell_type": "markdown",
      "id": "2db27146",
      "metadata": {
        "id": "2db27146"
      },
      "source": [
        "## Convert string to boolean"
      ]
    },
    {
      "cell_type": "code",
      "execution_count": null,
      "id": "5a1a0b90",
      "metadata": {
        "id": "5a1a0b90",
        "outputId": "bfc343ed-de45-484f-c709-91452528b8e7"
      },
      "outputs": [
        {
          "name": "stdout",
          "output_type": "stream",
          "text": [
            "55\n",
            "<class 'str'>\n",
            "True\n",
            "<class 'bool'>\n"
          ]
        }
      ],
      "source": [
        "a='55'\n",
        "print(a)\n",
        "print(type(a))\n",
        "b=bool(a)\n",
        "print(b)\n",
        "print(type(b))"
      ]
    },
    {
      "cell_type": "markdown",
      "id": "bfe1b4a4",
      "metadata": {
        "id": "bfe1b4a4"
      },
      "source": [
        "## Convert boolean to int"
      ]
    },
    {
      "cell_type": "code",
      "execution_count": null,
      "id": "4f6a6e9c",
      "metadata": {
        "id": "4f6a6e9c",
        "outputId": "14a217d6-9cf3-4dc9-d6db-a32649e81cc5"
      },
      "outputs": [
        {
          "name": "stdout",
          "output_type": "stream",
          "text": [
            "True\n",
            "<class 'bool'>\n",
            "1\n",
            "<class 'int'>\n"
          ]
        }
      ],
      "source": [
        "a=True\n",
        "print(a)\n",
        "print(type(a))\n",
        "b=int(a)\n",
        "print(b)\n",
        "print(type(b))"
      ]
    },
    {
      "cell_type": "markdown",
      "id": "9d274615",
      "metadata": {
        "id": "9d274615"
      },
      "source": [
        "## Convert boolean to float"
      ]
    },
    {
      "cell_type": "code",
      "execution_count": null,
      "id": "0d45a527",
      "metadata": {
        "id": "0d45a527",
        "outputId": "e7de5a24-af2f-42b9-b8d3-65faeb4d3b1a"
      },
      "outputs": [
        {
          "name": "stdout",
          "output_type": "stream",
          "text": [
            "False\n",
            "<class 'bool'>\n",
            "0.0\n",
            "<class 'float'>\n"
          ]
        }
      ],
      "source": [
        "a=False\n",
        "print(a)\n",
        "print(type(a))\n",
        "b=float(a)\n",
        "print(b)\n",
        "print(type(b))"
      ]
    },
    {
      "cell_type": "markdown",
      "id": "e4322f3a",
      "metadata": {
        "id": "e4322f3a"
      },
      "source": [
        "## Convert boolean to string"
      ]
    },
    {
      "cell_type": "code",
      "execution_count": null,
      "id": "1e81f04c",
      "metadata": {
        "id": "1e81f04c",
        "outputId": "5d82a17e-b3fa-4d5a-fcbe-417b06572a69"
      },
      "outputs": [
        {
          "name": "stdout",
          "output_type": "stream",
          "text": [
            "True\n",
            "<class 'bool'>\n",
            "True\n",
            "<class 'str'>\n"
          ]
        }
      ],
      "source": [
        "a=True\n",
        "print(a)\n",
        "print(type(a))\n",
        "b=str(a)\n",
        "print(b)\n",
        "print(type(b))"
      ]
    },
    {
      "cell_type": "markdown",
      "id": "7d84f0b7",
      "metadata": {
        "id": "7d84f0b7"
      },
      "source": [
        "## int to boolean(with condition)"
      ]
    },
    {
      "cell_type": "code",
      "execution_count": null,
      "id": "2592fbd9",
      "metadata": {
        "id": "2592fbd9",
        "outputId": "71f2aab1-113f-4ba3-d2aa-4e06af548887"
      },
      "outputs": [
        {
          "name": "stdout",
          "output_type": "stream",
          "text": [
            "False\n",
            "<class 'bool'>\n"
          ]
        }
      ],
      "source": [
        "a=5\n",
        "b=10\n",
        "c=(a>b)\n",
        "print(c)\n",
        "print(type(c))"
      ]
    },
    {
      "cell_type": "markdown",
      "id": "b74984a7",
      "metadata": {
        "id": "b74984a7"
      },
      "source": [
        "## boolean to int(with condition)"
      ]
    },
    {
      "cell_type": "code",
      "execution_count": null,
      "id": "c1a9348f",
      "metadata": {
        "id": "c1a9348f",
        "outputId": "d8d5e18f-2999-401f-eb8a-9f74cabe53f6"
      },
      "outputs": [
        {
          "name": "stdout",
          "output_type": "stream",
          "text": [
            "True\n",
            "<class 'bool'>\n",
            "1\n",
            "<class 'int'>\n"
          ]
        }
      ],
      "source": [
        "a=bool(10)\n",
        "print(a)\n",
        "print(type(a))\n",
        "b=int(a)\n",
        "print(b)\n",
        "print(type(b))"
      ]
    },
    {
      "cell_type": "markdown",
      "id": "0a0bac62",
      "metadata": {
        "id": "0a0bac62"
      },
      "source": [
        "## float to boolean(with condition)"
      ]
    },
    {
      "cell_type": "code",
      "execution_count": null,
      "id": "5267c04a",
      "metadata": {
        "id": "5267c04a",
        "outputId": "b16999a4-763a-496f-a352-0acc237b6669"
      },
      "outputs": [
        {
          "name": "stdout",
          "output_type": "stream",
          "text": [
            "True\n",
            "<class 'bool'>\n",
            "1.0\n",
            "<class 'float'>\n"
          ]
        }
      ],
      "source": [
        "a=bool(10)\n",
        "print(a)\n",
        "print(type(a))\n",
        "b=float(a)\n",
        "print(b)\n",
        "print(type(b))"
      ]
    }
  ],
  "metadata": {
    "kernelspec": {
      "display_name": "Python 3 (ipykernel)",
      "language": "python",
      "name": "python3"
    },
    "language_info": {
      "codemirror_mode": {
        "name": "ipython",
        "version": 3
      },
      "file_extension": ".py",
      "mimetype": "text/x-python",
      "name": "python",
      "nbconvert_exporter": "python",
      "pygments_lexer": "ipython3",
      "version": "3.9.7"
    },
    "colab": {
      "name": "VU21CSEN0101846 Python programs.ipynb",
      "provenance": [],
      "include_colab_link": true
    }
  },
  "nbformat": 4,
  "nbformat_minor": 5
}